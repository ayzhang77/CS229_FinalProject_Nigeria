{
  "nbformat": 4,
  "nbformat_minor": 0,
  "metadata": {
    "colab": {
      "name": "Maternal_Mortality_Model.ipynb",
      "provenance": [],
      "collapsed_sections": [
        "KT66FLNAL1CJ",
        "SztnNC2veLcV",
        "K8DjAlk4MYSe",
        "d0u56JQ3esKh",
        "DRSPtw5_9V5T",
        "Jqft_JYBBkzO"
      ],
      "include_colab_link": true
    },
    "kernelspec": {
      "name": "python3",
      "display_name": "Python 3"
    },
    "language_info": {
      "name": "python"
    }
  },
  "cells": [
    {
      "cell_type": "markdown",
      "metadata": {
        "id": "view-in-github",
        "colab_type": "text"
      },
      "source": [
        "<a href=\"https://colab.research.google.com/github/sameersundrani/CS229_FinalProject_Nigeria/blob/main/Maternal_Mortality_Model.ipynb\" target=\"_parent\"><img src=\"https://colab.research.google.com/assets/colab-badge.svg\" alt=\"Open In Colab\"/></a>"
      ]
    },
    {
      "cell_type": "markdown",
      "metadata": {
        "id": "8zallFpyqLeZ"
      },
      "source": [
        "# CS229 Final Project: Predicting Regional Maternal Mortality Risk in Nigeria\n",
        "### Sameer Sundrani (sundrani), Amy Zhang (ayzhang), Cora Wendlandt (coraw)\n"
      ]
    },
    {
      "cell_type": "code",
      "metadata": {
        "id": "5KxscBaxmf2H"
      },
      "source": [
        "\n",
        "import pandas as pd\n",
        "import numpy as np\n",
        "import matplotlib.pyplot as plt\n",
        "from sklearn.model_selection import train_test_split, RepeatedStratifiedKFold, cross_val_score, GridSearchCV, StratifiedKFold, RandomizedSearchCV\n",
        "from sklearn.metrics import precision_score, confusion_matrix, roc_auc_score, accuracy_score, balanced_accuracy_score,recall_score, precision_recall_curve, roc_curve, f1_score, auc, fbeta_score, make_scorer, classification_report\n",
        "from sklearn.linear_model import LogisticRegression, LogisticRegressionCV\n",
        "from matplotlib import pyplot\n",
        "from google.colab import drive\n",
        "import xgboost\n",
        "# !pip install shap\n",
        "# import shap \n",
        "from xgboost import XGBClassifier"
      ],
      "execution_count": 5,
      "outputs": []
    },
    {
      "cell_type": "markdown",
      "metadata": {
        "id": "2nvD2wqJoYkq"
      },
      "source": [
        "## Data Loading\n",
        "The below code will mount to your Google Drive account so you will have access to the files in your Drive. It will bring you to a seperate authentication page and you will have to copy and paste a code in order to get access. Just follow the instructions!"
      ]
    },
    {
      "cell_type": "code",
      "metadata": {
        "colab": {
          "base_uri": "https://localhost:8080/",
          "height": 254
        },
        "id": "5KEjKhDgsOY0",
        "outputId": "a2fbd5a5-71bd-4752-b3de-734e53d8f7bd"
      },
      "source": [
        "drive.mount('/content/drive', force_remount=True)\n",
        "\n",
        "# add your own path string based on where you stored our shared project folder in your Google Drive\n",
        "FOLDERNAME_AMY = '/content/drive/MyDrive/CS229_Final_Project_Shared'\n",
        "#FOLDERNAME_CORA = \n",
        "#FOLDERNAME_SAMEER = \n",
        "\n",
        "#CHANGE THIS TO BE YOUR PATHNAME WHEN RUNNING ON YOUR DRIVE ACCOUNT\n",
        "FOLDERNAME = FOLDERNAME_AMY\n",
        "\n",
        "all_data = pd.read_csv(FOLDERNAME + \"/all_data.csv\")\n",
        "all_data.head()"
      ],
      "execution_count": 6,
      "outputs": [
        {
          "output_type": "stream",
          "text": [
            "Mounted at /content/drive\n"
          ],
          "name": "stdout"
        },
        {
          "output_type": "execute_result",
          "data": {
            "text/html": [
              "<div>\n",
              "<style scoped>\n",
              "    .dataframe tbody tr th:only-of-type {\n",
              "        vertical-align: middle;\n",
              "    }\n",
              "\n",
              "    .dataframe tbody tr th {\n",
              "        vertical-align: top;\n",
              "    }\n",
              "\n",
              "    .dataframe thead th {\n",
              "        text-align: right;\n",
              "    }\n",
              "</style>\n",
              "<table border=\"1\" class=\"dataframe\">\n",
              "  <thead>\n",
              "    <tr style=\"text-align: right;\">\n",
              "      <th></th>\n",
              "      <th>Unnamed: 0</th>\n",
              "      <th>CASEID</th>\n",
              "      <th>region</th>\n",
              "      <th>dv_weight</th>\n",
              "      <th>place</th>\n",
              "      <th>age</th>\n",
              "      <th>numSons</th>\n",
              "      <th>numDaughters</th>\n",
              "      <th>numSonsDied</th>\n",
              "      <th>numDaughtersDied</th>\n",
              "      <th>numChildren</th>\n",
              "      <th>curPregnant</th>\n",
              "      <th>terminated_before</th>\n",
              "      <th>amount_antenatal_care</th>\n",
              "      <th>months_antenatalcare</th>\n",
              "      <th>numVisitsPregnancy</th>\n",
              "      <th>blood_pressure</th>\n",
              "      <th>urine</th>\n",
              "      <th>blood</th>\n",
              "      <th>numTetanusDuring</th>\n",
              "      <th>numTetanusBefore</th>\n",
              "      <th>numDaysGivenIron</th>\n",
              "      <th>numDaysTakenIron</th>\n",
              "      <th>drugs_parasites</th>\n",
              "      <th>drugs_SP_Fansidar</th>\n",
              "      <th>child_avg_size</th>\n",
              "      <th>child_avg_weight</th>\n",
              "      <th>time_spent</th>\n",
              "      <th>num_c_sections</th>\n",
              "      <th>post_check</th>\n",
              "      <th>discharge_check</th>\n",
              "      <th>avg_amenorrhea</th>\n",
              "      <th>numSTI</th>\n",
              "      <th>smokerStatus</th>\n",
              "      <th>distanceToFacility</th>\n",
              "      <th>notGoAlone</th>\n",
              "      <th>hasHealthcare</th>\n",
              "      <th>numSiblings</th>\n",
              "      <th>sexualViolence</th>\n",
              "      <th>forcedSex</th>\n",
              "      <th>isCircumsized</th>\n",
              "      <th>numSisters</th>\n",
              "      <th>numMaternalDeaths</th>\n",
              "    </tr>\n",
              "  </thead>\n",
              "  <tbody>\n",
              "    <tr>\n",
              "      <th>0</th>\n",
              "      <td>1</td>\n",
              "      <td>1   1  2</td>\n",
              "      <td>1</td>\n",
              "      <td>0.000000</td>\n",
              "      <td>1</td>\n",
              "      <td>40</td>\n",
              "      <td>1</td>\n",
              "      <td>2</td>\n",
              "      <td>0</td>\n",
              "      <td>0</td>\n",
              "      <td>1</td>\n",
              "      <td>0</td>\n",
              "      <td>0</td>\n",
              "      <td>1</td>\n",
              "      <td>3</td>\n",
              "      <td>6</td>\n",
              "      <td>1</td>\n",
              "      <td>1</td>\n",
              "      <td>1</td>\n",
              "      <td>2</td>\n",
              "      <td>-1</td>\n",
              "      <td>1</td>\n",
              "      <td>180</td>\n",
              "      <td>0</td>\n",
              "      <td>1</td>\n",
              "      <td>3.0</td>\n",
              "      <td>3.5</td>\n",
              "      <td>204</td>\n",
              "      <td>1</td>\n",
              "      <td>1</td>\n",
              "      <td>0</td>\n",
              "      <td>3.0</td>\n",
              "      <td>0</td>\n",
              "      <td>0</td>\n",
              "      <td>2</td>\n",
              "      <td>2</td>\n",
              "      <td>0</td>\n",
              "      <td>4</td>\n",
              "      <td>-1</td>\n",
              "      <td>-1</td>\n",
              "      <td>-1</td>\n",
              "      <td>3</td>\n",
              "      <td>0</td>\n",
              "    </tr>\n",
              "    <tr>\n",
              "      <th>1</th>\n",
              "      <td>2</td>\n",
              "      <td>1   6  4</td>\n",
              "      <td>1</td>\n",
              "      <td>0.956572</td>\n",
              "      <td>1</td>\n",
              "      <td>16</td>\n",
              "      <td>0</td>\n",
              "      <td>0</td>\n",
              "      <td>0</td>\n",
              "      <td>0</td>\n",
              "      <td>0</td>\n",
              "      <td>0</td>\n",
              "      <td>0</td>\n",
              "      <td>0</td>\n",
              "      <td>-1</td>\n",
              "      <td>-1</td>\n",
              "      <td>-1</td>\n",
              "      <td>-1</td>\n",
              "      <td>-1</td>\n",
              "      <td>-1</td>\n",
              "      <td>-1</td>\n",
              "      <td>-1</td>\n",
              "      <td>-1</td>\n",
              "      <td>-1</td>\n",
              "      <td>-1</td>\n",
              "      <td>-1.0</td>\n",
              "      <td>-1.0</td>\n",
              "      <td>-1</td>\n",
              "      <td>-1</td>\n",
              "      <td>-1</td>\n",
              "      <td>-1</td>\n",
              "      <td>-1.0</td>\n",
              "      <td>0</td>\n",
              "      <td>0</td>\n",
              "      <td>2</td>\n",
              "      <td>2</td>\n",
              "      <td>0</td>\n",
              "      <td>2</td>\n",
              "      <td>-1</td>\n",
              "      <td>-1</td>\n",
              "      <td>-1</td>\n",
              "      <td>0</td>\n",
              "      <td>0</td>\n",
              "    </tr>\n",
              "    <tr>\n",
              "      <th>2</th>\n",
              "      <td>3</td>\n",
              "      <td>1  11  1</td>\n",
              "      <td>1</td>\n",
              "      <td>0.000000</td>\n",
              "      <td>1</td>\n",
              "      <td>37</td>\n",
              "      <td>2</td>\n",
              "      <td>1</td>\n",
              "      <td>0</td>\n",
              "      <td>0</td>\n",
              "      <td>1</td>\n",
              "      <td>0</td>\n",
              "      <td>1</td>\n",
              "      <td>2</td>\n",
              "      <td>2</td>\n",
              "      <td>5</td>\n",
              "      <td>1</td>\n",
              "      <td>1</td>\n",
              "      <td>1</td>\n",
              "      <td>3</td>\n",
              "      <td>-1</td>\n",
              "      <td>1</td>\n",
              "      <td>100</td>\n",
              "      <td>0</td>\n",
              "      <td>1</td>\n",
              "      <td>5.0</td>\n",
              "      <td>2.0</td>\n",
              "      <td>100</td>\n",
              "      <td>0</td>\n",
              "      <td>1</td>\n",
              "      <td>0</td>\n",
              "      <td>96.0</td>\n",
              "      <td>1</td>\n",
              "      <td>0</td>\n",
              "      <td>2</td>\n",
              "      <td>2</td>\n",
              "      <td>0</td>\n",
              "      <td>5</td>\n",
              "      <td>-1</td>\n",
              "      <td>-1</td>\n",
              "      <td>0</td>\n",
              "      <td>4</td>\n",
              "      <td>0</td>\n",
              "    </tr>\n",
              "    <tr>\n",
              "      <th>3</th>\n",
              "      <td>4</td>\n",
              "      <td>1  25  2</td>\n",
              "      <td>1</td>\n",
              "      <td>0.000000</td>\n",
              "      <td>1</td>\n",
              "      <td>27</td>\n",
              "      <td>1</td>\n",
              "      <td>0</td>\n",
              "      <td>0</td>\n",
              "      <td>0</td>\n",
              "      <td>1</td>\n",
              "      <td>0</td>\n",
              "      <td>0</td>\n",
              "      <td>1</td>\n",
              "      <td>4</td>\n",
              "      <td>7</td>\n",
              "      <td>1</td>\n",
              "      <td>1</td>\n",
              "      <td>1</td>\n",
              "      <td>2</td>\n",
              "      <td>-1</td>\n",
              "      <td>1</td>\n",
              "      <td>30</td>\n",
              "      <td>1</td>\n",
              "      <td>1</td>\n",
              "      <td>3.0</td>\n",
              "      <td>3.2</td>\n",
              "      <td>105</td>\n",
              "      <td>0</td>\n",
              "      <td>0</td>\n",
              "      <td>0</td>\n",
              "      <td>5.0</td>\n",
              "      <td>0</td>\n",
              "      <td>0</td>\n",
              "      <td>2</td>\n",
              "      <td>2</td>\n",
              "      <td>0</td>\n",
              "      <td>4</td>\n",
              "      <td>-1</td>\n",
              "      <td>-1</td>\n",
              "      <td>0</td>\n",
              "      <td>2</td>\n",
              "      <td>0</td>\n",
              "    </tr>\n",
              "    <tr>\n",
              "      <th>4</th>\n",
              "      <td>5</td>\n",
              "      <td>1  30  1</td>\n",
              "      <td>1</td>\n",
              "      <td>0.000000</td>\n",
              "      <td>1</td>\n",
              "      <td>29</td>\n",
              "      <td>0</td>\n",
              "      <td>0</td>\n",
              "      <td>0</td>\n",
              "      <td>0</td>\n",
              "      <td>0</td>\n",
              "      <td>0</td>\n",
              "      <td>0</td>\n",
              "      <td>0</td>\n",
              "      <td>-1</td>\n",
              "      <td>-1</td>\n",
              "      <td>-1</td>\n",
              "      <td>-1</td>\n",
              "      <td>-1</td>\n",
              "      <td>-1</td>\n",
              "      <td>-1</td>\n",
              "      <td>-1</td>\n",
              "      <td>-1</td>\n",
              "      <td>-1</td>\n",
              "      <td>-1</td>\n",
              "      <td>-1.0</td>\n",
              "      <td>-1.0</td>\n",
              "      <td>-1</td>\n",
              "      <td>-1</td>\n",
              "      <td>-1</td>\n",
              "      <td>-1</td>\n",
              "      <td>-1.0</td>\n",
              "      <td>0</td>\n",
              "      <td>0</td>\n",
              "      <td>2</td>\n",
              "      <td>2</td>\n",
              "      <td>0</td>\n",
              "      <td>2</td>\n",
              "      <td>-1</td>\n",
              "      <td>-1</td>\n",
              "      <td>0</td>\n",
              "      <td>1</td>\n",
              "      <td>0</td>\n",
              "    </tr>\n",
              "  </tbody>\n",
              "</table>\n",
              "</div>"
            ],
            "text/plain": [
              "   Unnamed: 0           CASEID  ...  numSisters  numMaternalDeaths\n",
              "0           1         1   1  2  ...           3                  0\n",
              "1           2         1   6  4  ...           0                  0\n",
              "2           3         1  11  1  ...           4                  0\n",
              "3           4         1  25  2  ...           2                  0\n",
              "4           5         1  30  1  ...           1                  0\n",
              "\n",
              "[5 rows x 43 columns]"
            ]
          },
          "metadata": {
            "tags": []
          },
          "execution_count": 6
        }
      ]
    },
    {
      "cell_type": "code",
      "metadata": {
        "colab": {
          "base_uri": "https://localhost:8080/",
          "height": 221
        },
        "id": "YpuJB2yWsZe_",
        "outputId": "d8f54e5e-60a5-42f7-8a57-b97e88ac7478"
      },
      "source": [
        "rem = all_data.drop(['Unnamed: 0','CASEID', 'numSisters', 'numSiblings'], axis = 1) #drop the numSisters column (if someone has 0 sisters, 0 risk for maternal mortality?)\n",
        "regions = rem['region']\n",
        "rem = rem.iloc[:,1:]\n",
        "rem.head()"
      ],
      "execution_count": 7,
      "outputs": [
        {
          "output_type": "execute_result",
          "data": {
            "text/html": [
              "<div>\n",
              "<style scoped>\n",
              "    .dataframe tbody tr th:only-of-type {\n",
              "        vertical-align: middle;\n",
              "    }\n",
              "\n",
              "    .dataframe tbody tr th {\n",
              "        vertical-align: top;\n",
              "    }\n",
              "\n",
              "    .dataframe thead th {\n",
              "        text-align: right;\n",
              "    }\n",
              "</style>\n",
              "<table border=\"1\" class=\"dataframe\">\n",
              "  <thead>\n",
              "    <tr style=\"text-align: right;\">\n",
              "      <th></th>\n",
              "      <th>dv_weight</th>\n",
              "      <th>place</th>\n",
              "      <th>age</th>\n",
              "      <th>numSons</th>\n",
              "      <th>numDaughters</th>\n",
              "      <th>numSonsDied</th>\n",
              "      <th>numDaughtersDied</th>\n",
              "      <th>numChildren</th>\n",
              "      <th>curPregnant</th>\n",
              "      <th>terminated_before</th>\n",
              "      <th>amount_antenatal_care</th>\n",
              "      <th>months_antenatalcare</th>\n",
              "      <th>numVisitsPregnancy</th>\n",
              "      <th>blood_pressure</th>\n",
              "      <th>urine</th>\n",
              "      <th>blood</th>\n",
              "      <th>numTetanusDuring</th>\n",
              "      <th>numTetanusBefore</th>\n",
              "      <th>numDaysGivenIron</th>\n",
              "      <th>numDaysTakenIron</th>\n",
              "      <th>drugs_parasites</th>\n",
              "      <th>drugs_SP_Fansidar</th>\n",
              "      <th>child_avg_size</th>\n",
              "      <th>child_avg_weight</th>\n",
              "      <th>time_spent</th>\n",
              "      <th>num_c_sections</th>\n",
              "      <th>post_check</th>\n",
              "      <th>discharge_check</th>\n",
              "      <th>avg_amenorrhea</th>\n",
              "      <th>numSTI</th>\n",
              "      <th>smokerStatus</th>\n",
              "      <th>distanceToFacility</th>\n",
              "      <th>notGoAlone</th>\n",
              "      <th>hasHealthcare</th>\n",
              "      <th>sexualViolence</th>\n",
              "      <th>forcedSex</th>\n",
              "      <th>isCircumsized</th>\n",
              "      <th>numMaternalDeaths</th>\n",
              "    </tr>\n",
              "  </thead>\n",
              "  <tbody>\n",
              "    <tr>\n",
              "      <th>0</th>\n",
              "      <td>0.000000</td>\n",
              "      <td>1</td>\n",
              "      <td>40</td>\n",
              "      <td>1</td>\n",
              "      <td>2</td>\n",
              "      <td>0</td>\n",
              "      <td>0</td>\n",
              "      <td>1</td>\n",
              "      <td>0</td>\n",
              "      <td>0</td>\n",
              "      <td>1</td>\n",
              "      <td>3</td>\n",
              "      <td>6</td>\n",
              "      <td>1</td>\n",
              "      <td>1</td>\n",
              "      <td>1</td>\n",
              "      <td>2</td>\n",
              "      <td>-1</td>\n",
              "      <td>1</td>\n",
              "      <td>180</td>\n",
              "      <td>0</td>\n",
              "      <td>1</td>\n",
              "      <td>3.0</td>\n",
              "      <td>3.5</td>\n",
              "      <td>204</td>\n",
              "      <td>1</td>\n",
              "      <td>1</td>\n",
              "      <td>0</td>\n",
              "      <td>3.0</td>\n",
              "      <td>0</td>\n",
              "      <td>0</td>\n",
              "      <td>2</td>\n",
              "      <td>2</td>\n",
              "      <td>0</td>\n",
              "      <td>-1</td>\n",
              "      <td>-1</td>\n",
              "      <td>-1</td>\n",
              "      <td>0</td>\n",
              "    </tr>\n",
              "    <tr>\n",
              "      <th>1</th>\n",
              "      <td>0.956572</td>\n",
              "      <td>1</td>\n",
              "      <td>16</td>\n",
              "      <td>0</td>\n",
              "      <td>0</td>\n",
              "      <td>0</td>\n",
              "      <td>0</td>\n",
              "      <td>0</td>\n",
              "      <td>0</td>\n",
              "      <td>0</td>\n",
              "      <td>0</td>\n",
              "      <td>-1</td>\n",
              "      <td>-1</td>\n",
              "      <td>-1</td>\n",
              "      <td>-1</td>\n",
              "      <td>-1</td>\n",
              "      <td>-1</td>\n",
              "      <td>-1</td>\n",
              "      <td>-1</td>\n",
              "      <td>-1</td>\n",
              "      <td>-1</td>\n",
              "      <td>-1</td>\n",
              "      <td>-1.0</td>\n",
              "      <td>-1.0</td>\n",
              "      <td>-1</td>\n",
              "      <td>-1</td>\n",
              "      <td>-1</td>\n",
              "      <td>-1</td>\n",
              "      <td>-1.0</td>\n",
              "      <td>0</td>\n",
              "      <td>0</td>\n",
              "      <td>2</td>\n",
              "      <td>2</td>\n",
              "      <td>0</td>\n",
              "      <td>-1</td>\n",
              "      <td>-1</td>\n",
              "      <td>-1</td>\n",
              "      <td>0</td>\n",
              "    </tr>\n",
              "    <tr>\n",
              "      <th>2</th>\n",
              "      <td>0.000000</td>\n",
              "      <td>1</td>\n",
              "      <td>37</td>\n",
              "      <td>2</td>\n",
              "      <td>1</td>\n",
              "      <td>0</td>\n",
              "      <td>0</td>\n",
              "      <td>1</td>\n",
              "      <td>0</td>\n",
              "      <td>1</td>\n",
              "      <td>2</td>\n",
              "      <td>2</td>\n",
              "      <td>5</td>\n",
              "      <td>1</td>\n",
              "      <td>1</td>\n",
              "      <td>1</td>\n",
              "      <td>3</td>\n",
              "      <td>-1</td>\n",
              "      <td>1</td>\n",
              "      <td>100</td>\n",
              "      <td>0</td>\n",
              "      <td>1</td>\n",
              "      <td>5.0</td>\n",
              "      <td>2.0</td>\n",
              "      <td>100</td>\n",
              "      <td>0</td>\n",
              "      <td>1</td>\n",
              "      <td>0</td>\n",
              "      <td>96.0</td>\n",
              "      <td>1</td>\n",
              "      <td>0</td>\n",
              "      <td>2</td>\n",
              "      <td>2</td>\n",
              "      <td>0</td>\n",
              "      <td>-1</td>\n",
              "      <td>-1</td>\n",
              "      <td>0</td>\n",
              "      <td>0</td>\n",
              "    </tr>\n",
              "    <tr>\n",
              "      <th>3</th>\n",
              "      <td>0.000000</td>\n",
              "      <td>1</td>\n",
              "      <td>27</td>\n",
              "      <td>1</td>\n",
              "      <td>0</td>\n",
              "      <td>0</td>\n",
              "      <td>0</td>\n",
              "      <td>1</td>\n",
              "      <td>0</td>\n",
              "      <td>0</td>\n",
              "      <td>1</td>\n",
              "      <td>4</td>\n",
              "      <td>7</td>\n",
              "      <td>1</td>\n",
              "      <td>1</td>\n",
              "      <td>1</td>\n",
              "      <td>2</td>\n",
              "      <td>-1</td>\n",
              "      <td>1</td>\n",
              "      <td>30</td>\n",
              "      <td>1</td>\n",
              "      <td>1</td>\n",
              "      <td>3.0</td>\n",
              "      <td>3.2</td>\n",
              "      <td>105</td>\n",
              "      <td>0</td>\n",
              "      <td>0</td>\n",
              "      <td>0</td>\n",
              "      <td>5.0</td>\n",
              "      <td>0</td>\n",
              "      <td>0</td>\n",
              "      <td>2</td>\n",
              "      <td>2</td>\n",
              "      <td>0</td>\n",
              "      <td>-1</td>\n",
              "      <td>-1</td>\n",
              "      <td>0</td>\n",
              "      <td>0</td>\n",
              "    </tr>\n",
              "    <tr>\n",
              "      <th>4</th>\n",
              "      <td>0.000000</td>\n",
              "      <td>1</td>\n",
              "      <td>29</td>\n",
              "      <td>0</td>\n",
              "      <td>0</td>\n",
              "      <td>0</td>\n",
              "      <td>0</td>\n",
              "      <td>0</td>\n",
              "      <td>0</td>\n",
              "      <td>0</td>\n",
              "      <td>0</td>\n",
              "      <td>-1</td>\n",
              "      <td>-1</td>\n",
              "      <td>-1</td>\n",
              "      <td>-1</td>\n",
              "      <td>-1</td>\n",
              "      <td>-1</td>\n",
              "      <td>-1</td>\n",
              "      <td>-1</td>\n",
              "      <td>-1</td>\n",
              "      <td>-1</td>\n",
              "      <td>-1</td>\n",
              "      <td>-1.0</td>\n",
              "      <td>-1.0</td>\n",
              "      <td>-1</td>\n",
              "      <td>-1</td>\n",
              "      <td>-1</td>\n",
              "      <td>-1</td>\n",
              "      <td>-1.0</td>\n",
              "      <td>0</td>\n",
              "      <td>0</td>\n",
              "      <td>2</td>\n",
              "      <td>2</td>\n",
              "      <td>0</td>\n",
              "      <td>-1</td>\n",
              "      <td>-1</td>\n",
              "      <td>0</td>\n",
              "      <td>0</td>\n",
              "    </tr>\n",
              "  </tbody>\n",
              "</table>\n",
              "</div>"
            ],
            "text/plain": [
              "   dv_weight  place  age  ...  forcedSex  isCircumsized  numMaternalDeaths\n",
              "0   0.000000      1   40  ...         -1             -1                  0\n",
              "1   0.956572      1   16  ...         -1             -1                  0\n",
              "2   0.000000      1   37  ...         -1              0                  0\n",
              "3   0.000000      1   27  ...         -1              0                  0\n",
              "4   0.000000      1   29  ...         -1              0                  0\n",
              "\n",
              "[5 rows x 38 columns]"
            ]
          },
          "metadata": {
            "tags": []
          },
          "execution_count": 7
        }
      ]
    },
    {
      "cell_type": "code",
      "metadata": {
        "colab": {
          "base_uri": "https://localhost:8080/"
        },
        "id": "gT3RskYoNpNi",
        "outputId": "c3e87a98-59bf-4b07-df6c-1de33299c884"
      },
      "source": [
        "rem.shape"
      ],
      "execution_count": null,
      "outputs": [
        {
          "output_type": "execute_result",
          "data": {
            "text/plain": [
              "(41821, 38)"
            ]
          },
          "metadata": {
            "tags": []
          },
          "execution_count": 4
        }
      ]
    },
    {
      "cell_type": "code",
      "metadata": {
        "colab": {
          "base_uri": "https://localhost:8080/",
          "height": 221
        },
        "id": "oj0hq81_16zP",
        "outputId": "cce07de5-7e29-4724-d1dd-a5bb79b76746"
      },
      "source": [
        "shuff = rem.sample(frac=1)\n",
        "shuff.head()"
      ],
      "execution_count": 8,
      "outputs": [
        {
          "output_type": "execute_result",
          "data": {
            "text/html": [
              "<div>\n",
              "<style scoped>\n",
              "    .dataframe tbody tr th:only-of-type {\n",
              "        vertical-align: middle;\n",
              "    }\n",
              "\n",
              "    .dataframe tbody tr th {\n",
              "        vertical-align: top;\n",
              "    }\n",
              "\n",
              "    .dataframe thead th {\n",
              "        text-align: right;\n",
              "    }\n",
              "</style>\n",
              "<table border=\"1\" class=\"dataframe\">\n",
              "  <thead>\n",
              "    <tr style=\"text-align: right;\">\n",
              "      <th></th>\n",
              "      <th>dv_weight</th>\n",
              "      <th>place</th>\n",
              "      <th>age</th>\n",
              "      <th>numSons</th>\n",
              "      <th>numDaughters</th>\n",
              "      <th>numSonsDied</th>\n",
              "      <th>numDaughtersDied</th>\n",
              "      <th>numChildren</th>\n",
              "      <th>curPregnant</th>\n",
              "      <th>terminated_before</th>\n",
              "      <th>amount_antenatal_care</th>\n",
              "      <th>months_antenatalcare</th>\n",
              "      <th>numVisitsPregnancy</th>\n",
              "      <th>blood_pressure</th>\n",
              "      <th>urine</th>\n",
              "      <th>blood</th>\n",
              "      <th>numTetanusDuring</th>\n",
              "      <th>numTetanusBefore</th>\n",
              "      <th>numDaysGivenIron</th>\n",
              "      <th>numDaysTakenIron</th>\n",
              "      <th>drugs_parasites</th>\n",
              "      <th>drugs_SP_Fansidar</th>\n",
              "      <th>child_avg_size</th>\n",
              "      <th>child_avg_weight</th>\n",
              "      <th>time_spent</th>\n",
              "      <th>num_c_sections</th>\n",
              "      <th>post_check</th>\n",
              "      <th>discharge_check</th>\n",
              "      <th>avg_amenorrhea</th>\n",
              "      <th>numSTI</th>\n",
              "      <th>smokerStatus</th>\n",
              "      <th>distanceToFacility</th>\n",
              "      <th>notGoAlone</th>\n",
              "      <th>hasHealthcare</th>\n",
              "      <th>sexualViolence</th>\n",
              "      <th>forcedSex</th>\n",
              "      <th>isCircumsized</th>\n",
              "      <th>numMaternalDeaths</th>\n",
              "    </tr>\n",
              "  </thead>\n",
              "  <tbody>\n",
              "    <tr>\n",
              "      <th>14007</th>\n",
              "      <td>0.000000</td>\n",
              "      <td>2</td>\n",
              "      <td>25</td>\n",
              "      <td>2</td>\n",
              "      <td>0</td>\n",
              "      <td>0</td>\n",
              "      <td>0</td>\n",
              "      <td>2</td>\n",
              "      <td>0</td>\n",
              "      <td>0</td>\n",
              "      <td>1</td>\n",
              "      <td>5</td>\n",
              "      <td>3</td>\n",
              "      <td>1</td>\n",
              "      <td>0</td>\n",
              "      <td>1</td>\n",
              "      <td>3</td>\n",
              "      <td>-1</td>\n",
              "      <td>1</td>\n",
              "      <td>15</td>\n",
              "      <td>0</td>\n",
              "      <td>0</td>\n",
              "      <td>3.0</td>\n",
              "      <td>9.997</td>\n",
              "      <td>106</td>\n",
              "      <td>0</td>\n",
              "      <td>1</td>\n",
              "      <td>0</td>\n",
              "      <td>51.0</td>\n",
              "      <td>1</td>\n",
              "      <td>0</td>\n",
              "      <td>1</td>\n",
              "      <td>2</td>\n",
              "      <td>0</td>\n",
              "      <td>-1</td>\n",
              "      <td>-1</td>\n",
              "      <td>-1</td>\n",
              "      <td>0</td>\n",
              "    </tr>\n",
              "    <tr>\n",
              "      <th>10601</th>\n",
              "      <td>0.000000</td>\n",
              "      <td>1</td>\n",
              "      <td>47</td>\n",
              "      <td>3</td>\n",
              "      <td>0</td>\n",
              "      <td>0</td>\n",
              "      <td>0</td>\n",
              "      <td>0</td>\n",
              "      <td>0</td>\n",
              "      <td>0</td>\n",
              "      <td>0</td>\n",
              "      <td>-1</td>\n",
              "      <td>-1</td>\n",
              "      <td>-1</td>\n",
              "      <td>-1</td>\n",
              "      <td>-1</td>\n",
              "      <td>-1</td>\n",
              "      <td>-1</td>\n",
              "      <td>-1</td>\n",
              "      <td>-1</td>\n",
              "      <td>-1</td>\n",
              "      <td>-1</td>\n",
              "      <td>-1.0</td>\n",
              "      <td>-1.000</td>\n",
              "      <td>-1</td>\n",
              "      <td>-1</td>\n",
              "      <td>-1</td>\n",
              "      <td>-1</td>\n",
              "      <td>-1.0</td>\n",
              "      <td>0</td>\n",
              "      <td>0</td>\n",
              "      <td>2</td>\n",
              "      <td>2</td>\n",
              "      <td>0</td>\n",
              "      <td>-1</td>\n",
              "      <td>-1</td>\n",
              "      <td>-1</td>\n",
              "      <td>0</td>\n",
              "    </tr>\n",
              "    <tr>\n",
              "      <th>25443</th>\n",
              "      <td>0.000000</td>\n",
              "      <td>2</td>\n",
              "      <td>30</td>\n",
              "      <td>5</td>\n",
              "      <td>0</td>\n",
              "      <td>1</td>\n",
              "      <td>1</td>\n",
              "      <td>2</td>\n",
              "      <td>0</td>\n",
              "      <td>0</td>\n",
              "      <td>0</td>\n",
              "      <td>-1</td>\n",
              "      <td>0</td>\n",
              "      <td>-1</td>\n",
              "      <td>-1</td>\n",
              "      <td>-1</td>\n",
              "      <td>0</td>\n",
              "      <td>0</td>\n",
              "      <td>0</td>\n",
              "      <td>-1</td>\n",
              "      <td>0</td>\n",
              "      <td>0</td>\n",
              "      <td>2.0</td>\n",
              "      <td>9.996</td>\n",
              "      <td>-1</td>\n",
              "      <td>0</td>\n",
              "      <td>-1</td>\n",
              "      <td>0</td>\n",
              "      <td>58.0</td>\n",
              "      <td>0</td>\n",
              "      <td>0</td>\n",
              "      <td>1</td>\n",
              "      <td>2</td>\n",
              "      <td>0</td>\n",
              "      <td>-1</td>\n",
              "      <td>-1</td>\n",
              "      <td>-1</td>\n",
              "      <td>0</td>\n",
              "    </tr>\n",
              "    <tr>\n",
              "      <th>33647</th>\n",
              "      <td>0.000000</td>\n",
              "      <td>1</td>\n",
              "      <td>32</td>\n",
              "      <td>1</td>\n",
              "      <td>1</td>\n",
              "      <td>0</td>\n",
              "      <td>0</td>\n",
              "      <td>2</td>\n",
              "      <td>0</td>\n",
              "      <td>0</td>\n",
              "      <td>1</td>\n",
              "      <td>4</td>\n",
              "      <td>9</td>\n",
              "      <td>1</td>\n",
              "      <td>1</td>\n",
              "      <td>1</td>\n",
              "      <td>2</td>\n",
              "      <td>-1</td>\n",
              "      <td>1</td>\n",
              "      <td>80</td>\n",
              "      <td>0</td>\n",
              "      <td>0</td>\n",
              "      <td>3.0</td>\n",
              "      <td>9.996</td>\n",
              "      <td>-1</td>\n",
              "      <td>0</td>\n",
              "      <td>-1</td>\n",
              "      <td>0</td>\n",
              "      <td>49.5</td>\n",
              "      <td>0</td>\n",
              "      <td>0</td>\n",
              "      <td>2</td>\n",
              "      <td>2</td>\n",
              "      <td>0</td>\n",
              "      <td>-1</td>\n",
              "      <td>-1</td>\n",
              "      <td>0</td>\n",
              "      <td>0</td>\n",
              "    </tr>\n",
              "    <tr>\n",
              "      <th>330</th>\n",
              "      <td>0.707104</td>\n",
              "      <td>2</td>\n",
              "      <td>36</td>\n",
              "      <td>1</td>\n",
              "      <td>0</td>\n",
              "      <td>0</td>\n",
              "      <td>0</td>\n",
              "      <td>1</td>\n",
              "      <td>0</td>\n",
              "      <td>0</td>\n",
              "      <td>1</td>\n",
              "      <td>2</td>\n",
              "      <td>4</td>\n",
              "      <td>1</td>\n",
              "      <td>1</td>\n",
              "      <td>1</td>\n",
              "      <td>2</td>\n",
              "      <td>-1</td>\n",
              "      <td>1</td>\n",
              "      <td>150</td>\n",
              "      <td>0</td>\n",
              "      <td>0</td>\n",
              "      <td>3.0</td>\n",
              "      <td>3.500</td>\n",
              "      <td>104</td>\n",
              "      <td>0</td>\n",
              "      <td>1</td>\n",
              "      <td>0</td>\n",
              "      <td>96.0</td>\n",
              "      <td>0</td>\n",
              "      <td>0</td>\n",
              "      <td>1</td>\n",
              "      <td>2</td>\n",
              "      <td>0</td>\n",
              "      <td>0</td>\n",
              "      <td>0</td>\n",
              "      <td>-1</td>\n",
              "      <td>0</td>\n",
              "    </tr>\n",
              "  </tbody>\n",
              "</table>\n",
              "</div>"
            ],
            "text/plain": [
              "       dv_weight  place  age  ...  forcedSex  isCircumsized  numMaternalDeaths\n",
              "14007   0.000000      2   25  ...         -1             -1                  0\n",
              "10601   0.000000      1   47  ...         -1             -1                  0\n",
              "25443   0.000000      2   30  ...         -1             -1                  0\n",
              "33647   0.000000      1   32  ...         -1              0                  0\n",
              "330     0.707104      2   36  ...          0             -1                  0\n",
              "\n",
              "[5 rows x 38 columns]"
            ]
          },
          "metadata": {
            "tags": []
          },
          "execution_count": 8
        }
      ]
    },
    {
      "cell_type": "code",
      "metadata": {
        "id": "ZLSj5_7L3yWw"
      },
      "source": [
        "data = shuff.iloc[:,:-1]\n",
        "labels = (shuff[\"numMaternalDeaths\"] > 0).astype(int)\n",
        "\n",
        "X_train, X_test, y_train, y_test = train_test_split(data, labels, test_size=0.20, random_state=42) #test size should be 20%"
      ],
      "execution_count": 9,
      "outputs": []
    },
    {
      "cell_type": "markdown",
      "metadata": {
        "id": "N1Rjg6jNRoMy"
      },
      "source": [
        "## Evaluation Metric (FPR given TPR Threshold of 92%)"
      ]
    },
    {
      "cell_type": "code",
      "metadata": {
        "id": "6bf5t_yRR1bi"
      },
      "source": [
        "tpr_thresh = 0.92\n",
        "def eval_roc(fpr, tpr):\n",
        "  idx = (np.abs(tpr - tpr_thresh)).argmin()\n",
        "  print(\"False Positive Rate at Threshold: \"+str(round(fpr[idx],3)))"
      ],
      "execution_count": 10,
      "outputs": []
    },
    {
      "cell_type": "code",
      "metadata": {
        "id": "DIldRthjKN9S"
      },
      "source": [
        "#Fxn to get indicies of misclassified points\n",
        "def get_indicies_misclassified(list_pred, list_true, indicies, threshold):\n",
        "  # list_class = [1 if list_pred[i] > threshold else 0 for i in range(len(list_pred))]\n",
        "  list_pred = list(list_pred)\n",
        "  list_true = list(list_true)\n",
        "  list_idx = []\n",
        "  misclass_probs = []\n",
        "  for i in range(len(list_pred)):\n",
        "    if ((list_pred[i] >= threshold and list_true[i] == 0) or (list_pred[i] < threshold and list_true[i] == 1)):\n",
        "      list_idx.append((indices[i], list_pred[i]))\n",
        "      # misclass_probs.append(list_pred[i])\n",
        "  return list_idx\n",
        "\n",
        "def get_thresh(fpr, tpr, thresh):\n",
        "  idx = (np.abs(tpr - tpr_thresh)).argmin()\n",
        "  return thresh[idx]\n",
        "\n",
        "#takes sorted in ascending order (idx, prob)\n",
        "def get_top(list_tups, num):\n",
        "  return [list_tups[i][0] for i in range(len(list_tups) - num, len(list_tups))]\n",
        "\n",
        "#takes sorted in ascending order (idx, prob)\n",
        "def get_bottom(list_tups, num):\n",
        "  return [list_tups[i][0] for i in range(0, num)]"
      ],
      "execution_count": 12,
      "outputs": []
    },
    {
      "cell_type": "markdown",
      "metadata": {
        "id": "zpYSn9uKbuBs"
      },
      "source": [
        "## Normal (unweighted) Logistic Regression:"
      ]
    },
    {
      "cell_type": "code",
      "metadata": {
        "id": "1jyHtQ2w5nPz"
      },
      "source": [
        "clf_lr = LogisticRegression(random_state=13, max_iter=5000).fit(X_train, y_train)\n",
        "y_pred = clf_lr.predict(X_test)"
      ],
      "execution_count": 37,
      "outputs": []
    },
    {
      "cell_type": "code",
      "metadata": {
        "colab": {
          "base_uri": "https://localhost:8080/"
        },
        "id": "ydfLTLnbA1Ip",
        "outputId": "bfd2ae80-92c9-4143-c8bd-3e407f3fcd5e"
      },
      "source": [
        "print(\"NORMAL (UNWEIGHTED) LR PERFORMANCE: \")\n",
        "print(f'Training Score: {clf_lr.score(X_train, y_train)}')\n",
        "print(f'Validation Score: {clf_lr.score(X_test, y_test)}')\n",
        "# [[TN, FP], \n",
        "#  [FN, TP]]\n",
        "print(f'Confusion Matrix: \\n{confusion_matrix(y_test, y_pred)}')\n",
        "print(f'Area Under Curve (ROC AUC Score): {roc_auc_score(y_test, y_pred)}')\n",
        "print(f'Recall score: {recall_score(y_test,y_pred)}')\n",
        "print(f'Precision score: {precision_score(y_test,y_pred)}')\n",
        "print(f'F2 score: {fbeta_score(y_test, y_pred, beta=2)}')"
      ],
      "execution_count": null,
      "outputs": [
        {
          "output_type": "stream",
          "text": [
            "NORMAL (UNWEIGHTED) LR PERFORMANCE: \n",
            "Training Score: 0.9846963175514108\n",
            "Validation Score: 0.9838613269575612\n",
            "Confusion Matrix: \n",
            "[[8230    0]\n",
            " [ 135    0]]\n",
            "Area Under Curve (ROC AUC Score): 0.5\n",
            "Recall score: 0.0\n",
            "Precision score: 0.0\n",
            "F2 score: 0.0\n"
          ],
          "name": "stdout"
        },
        {
          "output_type": "stream",
          "text": [
            "/usr/local/lib/python3.7/dist-packages/sklearn/metrics/_classification.py:1272: UndefinedMetricWarning: Precision is ill-defined and being set to 0.0 due to no predicted samples. Use `zero_division` parameter to control this behavior.\n",
            "  _warn_prf(average, modifier, msg_start, len(result))\n"
          ],
          "name": "stderr"
        }
      ]
    },
    {
      "cell_type": "code",
      "metadata": {
        "colab": {
          "base_uri": "https://localhost:8080/",
          "height": 312
        },
        "id": "OOj_TFifGHgD",
        "outputId": "66921702-430e-42e7-8c2b-dc45bd627b43"
      },
      "source": [
        "#Get Precision-Recall curve unweighted model\n",
        "\n",
        "# predict probabilities\n",
        "lr_probs = clf_lr.predict_proba(X_test)\n",
        "# keep probabilities for the positive outcome only\n",
        "lr_probs = lr_probs[:, 1]\n",
        "# predict class values\n",
        "yhat = clf_lr.predict(X_test)\n",
        "lr_precision, lr_recall, _ = precision_recall_curve(y_test, lr_probs)\n",
        "lr_f1, lr_auc = f1_score(y_test, yhat), auc(lr_recall, lr_precision)\n",
        "# summarize scores\n",
        "print('Logistic: f1=%.3f auc=%.3f' % (lr_f1, lr_auc))\n",
        "# plot the precision-recall curves\n",
        "no_skill = len(y_test[y_test==1]) / len(y_test)\n",
        "pyplot.plot([0, 1], [no_skill, no_skill], linestyle='--', label='No Skill')\n",
        "pyplot.plot(lr_recall, lr_precision, marker='.', label='Logistic')\n",
        "# axis labels\n",
        "pyplot.xlabel('Recall')\n",
        "pyplot.ylabel('Precision')\n",
        "pyplot.title('Precision-Recall Unweighted LR')\n",
        "\n",
        "# show the legend\n",
        "pyplot.legend()\n",
        "# show the plot\n",
        "pyplot.savefig(FOLDERNAME_AMY + '/precision_recall_curve_unweighted_lr_jun1.png', bbox_inches ='tight')\n",
        "pyplot.show()"
      ],
      "execution_count": null,
      "outputs": [
        {
          "output_type": "stream",
          "text": [
            "Logistic: f1=0.000 auc=0.050\n"
          ],
          "name": "stdout"
        },
        {
          "output_type": "display_data",
          "data": {
            "image/png": "[encoded data removed]",
            "text/plain": [
              "<Figure size 432x288 with 1 Axes>"
            ]
          },
          "metadata": {
            "tags": [],
            "needs_background": "light"
          }
        }
      ]
    },
    {
      "cell_type": "code",
      "metadata": {
        "colab": {
          "base_uri": "https://localhost:8080/",
          "height": 360
        },
        "id": "c5MYhnddGRYx",
        "outputId": "93ab2739-42cf-46c2-a3ec-74dc72f3e7bd"
      },
      "source": [
        "#Get ROC (probably not so good since we have class imbalance) unweighted model\n",
        "\n",
        "# generate a no skill prediction (majority class)\n",
        "ns_probs = [0 for _ in range(len(y_test))]\n",
        "\n",
        "# predict probabilities\n",
        "lr_probs = clf_lr.predict_proba(X_test)\n",
        "# keep probabilities for the positive outcome only\n",
        "lr_probs = lr_probs[:, 1]\n",
        "# calculate scores\n",
        "ns_auc = roc_auc_score(y_test, ns_probs)\n",
        "lr_auc = roc_auc_score(y_test, lr_probs)\n",
        "# summarize scores\n",
        "print('No Skill: ROC AUC=%.3f' % (ns_auc))\n",
        "print('Logistic: ROC AUC=%.3f' % (lr_auc))\n",
        "# calculate roc curves\n",
        "ns_fpr, ns_tpr, _ = roc_curve(y_test, ns_probs)\n",
        "lr_fpr, lr_tpr, _ = roc_curve(y_test, lr_probs)\n",
        "# plot the roc curve for the model\n",
        "pyplot.plot(ns_fpr, ns_tpr, linestyle='--', label='No Skill')\n",
        "pyplot.plot(lr_fpr, lr_tpr, marker='.', label='Logistic')\n",
        "# axis labels\n",
        "pyplot.xlabel('False Positive Rate')\n",
        "pyplot.ylabel('True Positive Rate')\n",
        "pyplot.title('ROC Unweighted LR')\n",
        "pyplot.plot(0.694, 0.92, marker=\"o\", markersize=10, label = \"Optimal Value\")\n",
        "# show the legend\n",
        "pyplot.legend()\n",
        "# show the plot\n",
        "pyplot.savefig(FOLDERNAME_AMY + '/ROC_unweighted_lr_jun1.png', bbox_inches ='tight')\n",
        "pyplot.show()\n",
        "\n",
        "# use evaluation metric\n",
        "print(\"Testing \",end=\"\")\n",
        "eval_roc(lr_fpr,lr_tpr)\n",
        "print(\"Training \",end=\"\")\n",
        "lr_probs = clf_lr.predict_proba(X_train)\n",
        "# keep probabilities for the positive outcome only\n",
        "lr_probs = lr_probs[:, 1]\n",
        "lr_fpr, lr_tpr, _ = roc_curve(y_train, lr_probs)\n",
        "eval_roc(lr_fpr,lr_tpr)"
      ],
      "execution_count": 38,
      "outputs": [
        {
          "output_type": "stream",
          "text": [
            "No Skill: ROC AUC=0.500\n",
            "Logistic: ROC AUC=0.721\n"
          ],
          "name": "stdout"
        },
        {
          "output_type": "display_data",
          "data": {
            "image/png": "[encoded data removed]",
            "text/plain": [
              "<Figure size 432x288 with 1 Axes>"
            ]
          },
          "metadata": {
            "tags": [],
            "needs_background": "light"
          }
        },
        {
          "output_type": "stream",
          "text": [
            "Testing False Positive Rate at Threshold: 0.607\n",
            "Training False Positive Rate at Threshold: 0.672\n"
          ],
          "name": "stdout"
        }
      ]
    },
    {
      "cell_type": "markdown",
      "metadata": {
        "id": "Q2Bf8xc0cA0Z"
      },
      "source": [
        "## Weighted Logistic Regression\n",
        "Weights are the inverse of label distribution as suggested by:\n",
        "https://towardsdatascience.com/weighted-logistic-regression-for-imbalanced-dataset-9a5cd88e68b\n",
        "\n",
        "Can also try using grid search to find potentially more optimal weights (usually only minor improvement to ROC AUC score)\n"
      ]
    },
    {
      "cell_type": "code",
      "metadata": {
        "id": "sVwTnJTkHAAr",
        "colab": {
          "base_uri": "https://localhost:8080/",
          "height": 348
        },
        "outputId": "f0e3ae49-2d04-4dc9-ed7e-b994414b3357"
      },
      "source": [
        "num_deaths = np.sum(y_train)\n",
        "healthy_w = 1 / (len(y_train.index) - num_deaths)\n",
        "death_w = 1 / num_deaths\n",
        "\n",
        "class_weights = {0: healthy_w, 1: death_w}\n",
        "\n",
        "clf_wlr = LogisticRegression(random_state=13, max_iter=5000, class_weight=class_weights).fit(X_train, y_train)\n",
        "y_pred_wlr = clf_wlr.predict(X_test)"
      ],
      "execution_count": 34,
      "outputs": [
        {
          "output_type": "error",
          "ename": "KeyboardInterrupt",
          "evalue": "ignored",
          "traceback": [
            "\u001b[0;31m---------------------------------------------------------------------------\u001b[0m",
            "\u001b[0;31mKeyboardInterrupt\u001b[0m                         Traceback (most recent call last)",
            "\u001b[0;32m<ipython-input-34-e252873c9a9b>\u001b[0m in \u001b[0;36m<module>\u001b[0;34m()\u001b[0m\n\u001b[1;32m      5\u001b[0m \u001b[0mclass_weights\u001b[0m \u001b[0;34m=\u001b[0m \u001b[0;34m{\u001b[0m\u001b[0;36m0\u001b[0m\u001b[0;34m:\u001b[0m \u001b[0mhealthy_w\u001b[0m\u001b[0;34m,\u001b[0m \u001b[0;36m1\u001b[0m\u001b[0;34m:\u001b[0m \u001b[0mdeath_w\u001b[0m\u001b[0;34m}\u001b[0m\u001b[0;34m\u001b[0m\u001b[0;34m\u001b[0m\u001b[0m\n\u001b[1;32m      6\u001b[0m \u001b[0;34m\u001b[0m\u001b[0m\n\u001b[0;32m----> 7\u001b[0;31m \u001b[0mclf_wlr\u001b[0m \u001b[0;34m=\u001b[0m \u001b[0mLogisticRegression\u001b[0m\u001b[0;34m(\u001b[0m\u001b[0mrandom_state\u001b[0m\u001b[0;34m=\u001b[0m\u001b[0;36m13\u001b[0m\u001b[0;34m,\u001b[0m \u001b[0mmax_iter\u001b[0m\u001b[0;34m=\u001b[0m\u001b[0;36m5000\u001b[0m\u001b[0;34m,\u001b[0m \u001b[0mclass_weight\u001b[0m\u001b[0;34m=\u001b[0m\u001b[0mclass_weights\u001b[0m\u001b[0;34m)\u001b[0m\u001b[0;34m.\u001b[0m\u001b[0mfit\u001b[0m\u001b[0;34m(\u001b[0m\u001b[0mX_train\u001b[0m\u001b[0;34m,\u001b[0m \u001b[0my_train\u001b[0m\u001b[0;34m)\u001b[0m\u001b[0;34m\u001b[0m\u001b[0;34m\u001b[0m\u001b[0m\n\u001b[0m\u001b[1;32m      8\u001b[0m \u001b[0my_pred_wlr\u001b[0m \u001b[0;34m=\u001b[0m \u001b[0mclf_wlr\u001b[0m\u001b[0;34m.\u001b[0m\u001b[0mpredict\u001b[0m\u001b[0;34m(\u001b[0m\u001b[0mX_test\u001b[0m\u001b[0;34m)\u001b[0m\u001b[0;34m\u001b[0m\u001b[0;34m\u001b[0m\u001b[0m\n",
            "\u001b[0;32m/usr/local/lib/python3.7/dist-packages/sklearn/linear_model/_logistic.py\u001b[0m in \u001b[0;36mfit\u001b[0;34m(self, X, y, sample_weight)\u001b[0m\n\u001b[1;32m   1599\u001b[0m                       \u001b[0mpenalty\u001b[0m\u001b[0;34m=\u001b[0m\u001b[0mpenalty\u001b[0m\u001b[0;34m,\u001b[0m \u001b[0mmax_squared_sum\u001b[0m\u001b[0;34m=\u001b[0m\u001b[0mmax_squared_sum\u001b[0m\u001b[0;34m,\u001b[0m\u001b[0;34m\u001b[0m\u001b[0;34m\u001b[0m\u001b[0m\n\u001b[1;32m   1600\u001b[0m                       sample_weight=sample_weight)\n\u001b[0;32m-> 1601\u001b[0;31m             for class_, warm_start_coef_ in zip(classes_, warm_start_coef))\n\u001b[0m\u001b[1;32m   1602\u001b[0m \u001b[0;34m\u001b[0m\u001b[0m\n\u001b[1;32m   1603\u001b[0m         \u001b[0mfold_coefs_\u001b[0m\u001b[0;34m,\u001b[0m \u001b[0m_\u001b[0m\u001b[0;34m,\u001b[0m \u001b[0mn_iter_\u001b[0m \u001b[0;34m=\u001b[0m \u001b[0mzip\u001b[0m\u001b[0;34m(\u001b[0m\u001b[0;34m*\u001b[0m\u001b[0mfold_coefs_\u001b[0m\u001b[0;34m)\u001b[0m\u001b[0;34m\u001b[0m\u001b[0;34m\u001b[0m\u001b[0m\n",
            "\u001b[0;32m/usr/local/lib/python3.7/dist-packages/joblib/parallel.py\u001b[0m in \u001b[0;36m__call__\u001b[0;34m(self, iterable)\u001b[0m\n\u001b[1;32m   1039\u001b[0m             \u001b[0;31m# remaining jobs.\u001b[0m\u001b[0;34m\u001b[0m\u001b[0;34m\u001b[0m\u001b[0;34m\u001b[0m\u001b[0m\n\u001b[1;32m   1040\u001b[0m             \u001b[0mself\u001b[0m\u001b[0;34m.\u001b[0m\u001b[0m_iterating\u001b[0m \u001b[0;34m=\u001b[0m \u001b[0;32mFalse\u001b[0m\u001b[0;34m\u001b[0m\u001b[0;34m\u001b[0m\u001b[0m\n\u001b[0;32m-> 1041\u001b[0;31m             \u001b[0;32mif\u001b[0m \u001b[0mself\u001b[0m\u001b[0;34m.\u001b[0m\u001b[0mdispatch_one_batch\u001b[0m\u001b[0;34m(\u001b[0m\u001b[0miterator\u001b[0m\u001b[0;34m)\u001b[0m\u001b[0;34m:\u001b[0m\u001b[0;34m\u001b[0m\u001b[0;34m\u001b[0m\u001b[0m\n\u001b[0m\u001b[1;32m   1042\u001b[0m                 \u001b[0mself\u001b[0m\u001b[0;34m.\u001b[0m\u001b[0m_iterating\u001b[0m \u001b[0;34m=\u001b[0m \u001b[0mself\u001b[0m\u001b[0;34m.\u001b[0m\u001b[0m_original_iterator\u001b[0m \u001b[0;32mis\u001b[0m \u001b[0;32mnot\u001b[0m \u001b[0;32mNone\u001b[0m\u001b[0;34m\u001b[0m\u001b[0;34m\u001b[0m\u001b[0m\n\u001b[1;32m   1043\u001b[0m \u001b[0;34m\u001b[0m\u001b[0m\n",
            "\u001b[0;32m/usr/local/lib/python3.7/dist-packages/joblib/parallel.py\u001b[0m in \u001b[0;36mdispatch_one_batch\u001b[0;34m(self, iterator)\u001b[0m\n\u001b[1;32m    857\u001b[0m                 \u001b[0;32mreturn\u001b[0m \u001b[0;32mFalse\u001b[0m\u001b[0;34m\u001b[0m\u001b[0;34m\u001b[0m\u001b[0m\n\u001b[1;32m    858\u001b[0m             \u001b[0;32melse\u001b[0m\u001b[0;34m:\u001b[0m\u001b[0;34m\u001b[0m\u001b[0;34m\u001b[0m\u001b[0m\n\u001b[0;32m--> 859\u001b[0;31m                 \u001b[0mself\u001b[0m\u001b[0;34m.\u001b[0m\u001b[0m_dispatch\u001b[0m\u001b[0;34m(\u001b[0m\u001b[0mtasks\u001b[0m\u001b[0;34m)\u001b[0m\u001b[0;34m\u001b[0m\u001b[0;34m\u001b[0m\u001b[0m\n\u001b[0m\u001b[1;32m    860\u001b[0m                 \u001b[0;32mreturn\u001b[0m \u001b[0;32mTrue\u001b[0m\u001b[0;34m\u001b[0m\u001b[0;34m\u001b[0m\u001b[0m\n\u001b[1;32m    861\u001b[0m \u001b[0;34m\u001b[0m\u001b[0m\n",
            "\u001b[0;32m/usr/local/lib/python3.7/dist-packages/joblib/parallel.py\u001b[0m in \u001b[0;36m_dispatch\u001b[0;34m(self, batch)\u001b[0m\n\u001b[1;32m    775\u001b[0m         \u001b[0;32mwith\u001b[0m \u001b[0mself\u001b[0m\u001b[0;34m.\u001b[0m\u001b[0m_lock\u001b[0m\u001b[0;34m:\u001b[0m\u001b[0;34m\u001b[0m\u001b[0;34m\u001b[0m\u001b[0m\n\u001b[1;32m    776\u001b[0m             \u001b[0mjob_idx\u001b[0m \u001b[0;34m=\u001b[0m \u001b[0mlen\u001b[0m\u001b[0;34m(\u001b[0m\u001b[0mself\u001b[0m\u001b[0;34m.\u001b[0m\u001b[0m_jobs\u001b[0m\u001b[0;34m)\u001b[0m\u001b[0;34m\u001b[0m\u001b[0;34m\u001b[0m\u001b[0m\n\u001b[0;32m--> 777\u001b[0;31m             \u001b[0mjob\u001b[0m \u001b[0;34m=\u001b[0m \u001b[0mself\u001b[0m\u001b[0;34m.\u001b[0m\u001b[0m_backend\u001b[0m\u001b[0;34m.\u001b[0m\u001b[0mapply_async\u001b[0m\u001b[0;34m(\u001b[0m\u001b[0mbatch\u001b[0m\u001b[0;34m,\u001b[0m \u001b[0mcallback\u001b[0m\u001b[0;34m=\u001b[0m\u001b[0mcb\u001b[0m\u001b[0;34m)\u001b[0m\u001b[0;34m\u001b[0m\u001b[0;34m\u001b[0m\u001b[0m\n\u001b[0m\u001b[1;32m    778\u001b[0m             \u001b[0;31m# A job can complete so quickly than its callback is\u001b[0m\u001b[0;34m\u001b[0m\u001b[0;34m\u001b[0m\u001b[0;34m\u001b[0m\u001b[0m\n\u001b[1;32m    779\u001b[0m             \u001b[0;31m# called before we get here, causing self._jobs to\u001b[0m\u001b[0;34m\u001b[0m\u001b[0;34m\u001b[0m\u001b[0;34m\u001b[0m\u001b[0m\n",
            "\u001b[0;32m/usr/local/lib/python3.7/dist-packages/joblib/_parallel_backends.py\u001b[0m in \u001b[0;36mapply_async\u001b[0;34m(self, func, callback)\u001b[0m\n\u001b[1;32m    206\u001b[0m     \u001b[0;32mdef\u001b[0m \u001b[0mapply_async\u001b[0m\u001b[0;34m(\u001b[0m\u001b[0mself\u001b[0m\u001b[0;34m,\u001b[0m \u001b[0mfunc\u001b[0m\u001b[0;34m,\u001b[0m \u001b[0mcallback\u001b[0m\u001b[0;34m=\u001b[0m\u001b[0;32mNone\u001b[0m\u001b[0;34m)\u001b[0m\u001b[0;34m:\u001b[0m\u001b[0;34m\u001b[0m\u001b[0;34m\u001b[0m\u001b[0m\n\u001b[1;32m    207\u001b[0m         \u001b[0;34m\"\"\"Schedule a func to be run\"\"\"\u001b[0m\u001b[0;34m\u001b[0m\u001b[0;34m\u001b[0m\u001b[0m\n\u001b[0;32m--> 208\u001b[0;31m         \u001b[0mresult\u001b[0m \u001b[0;34m=\u001b[0m \u001b[0mImmediateResult\u001b[0m\u001b[0;34m(\u001b[0m\u001b[0mfunc\u001b[0m\u001b[0;34m)\u001b[0m\u001b[0;34m\u001b[0m\u001b[0;34m\u001b[0m\u001b[0m\n\u001b[0m\u001b[1;32m    209\u001b[0m         \u001b[0;32mif\u001b[0m \u001b[0mcallback\u001b[0m\u001b[0;34m:\u001b[0m\u001b[0;34m\u001b[0m\u001b[0;34m\u001b[0m\u001b[0m\n\u001b[1;32m    210\u001b[0m             \u001b[0mcallback\u001b[0m\u001b[0;34m(\u001b[0m\u001b[0mresult\u001b[0m\u001b[0;34m)\u001b[0m\u001b[0;34m\u001b[0m\u001b[0;34m\u001b[0m\u001b[0m\n",
            "\u001b[0;32m/usr/local/lib/python3.7/dist-packages/joblib/_parallel_backends.py\u001b[0m in \u001b[0;36m__init__\u001b[0;34m(self, batch)\u001b[0m\n\u001b[1;32m    570\u001b[0m         \u001b[0;31m# Don't delay the application, to avoid keeping the input\u001b[0m\u001b[0;34m\u001b[0m\u001b[0;34m\u001b[0m\u001b[0;34m\u001b[0m\u001b[0m\n\u001b[1;32m    571\u001b[0m         \u001b[0;31m# arguments in memory\u001b[0m\u001b[0;34m\u001b[0m\u001b[0;34m\u001b[0m\u001b[0;34m\u001b[0m\u001b[0m\n\u001b[0;32m--> 572\u001b[0;31m         \u001b[0mself\u001b[0m\u001b[0;34m.\u001b[0m\u001b[0mresults\u001b[0m \u001b[0;34m=\u001b[0m \u001b[0mbatch\u001b[0m\u001b[0;34m(\u001b[0m\u001b[0;34m)\u001b[0m\u001b[0;34m\u001b[0m\u001b[0;34m\u001b[0m\u001b[0m\n\u001b[0m\u001b[1;32m    573\u001b[0m \u001b[0;34m\u001b[0m\u001b[0m\n\u001b[1;32m    574\u001b[0m     \u001b[0;32mdef\u001b[0m \u001b[0mget\u001b[0m\u001b[0;34m(\u001b[0m\u001b[0mself\u001b[0m\u001b[0;34m)\u001b[0m\u001b[0;34m:\u001b[0m\u001b[0;34m\u001b[0m\u001b[0;34m\u001b[0m\u001b[0m\n",
            "\u001b[0;32m/usr/local/lib/python3.7/dist-packages/joblib/parallel.py\u001b[0m in \u001b[0;36m__call__\u001b[0;34m(self)\u001b[0m\n\u001b[1;32m    261\u001b[0m         \u001b[0;32mwith\u001b[0m \u001b[0mparallel_backend\u001b[0m\u001b[0;34m(\u001b[0m\u001b[0mself\u001b[0m\u001b[0;34m.\u001b[0m\u001b[0m_backend\u001b[0m\u001b[0;34m,\u001b[0m \u001b[0mn_jobs\u001b[0m\u001b[0;34m=\u001b[0m\u001b[0mself\u001b[0m\u001b[0;34m.\u001b[0m\u001b[0m_n_jobs\u001b[0m\u001b[0;34m)\u001b[0m\u001b[0;34m:\u001b[0m\u001b[0;34m\u001b[0m\u001b[0;34m\u001b[0m\u001b[0m\n\u001b[1;32m    262\u001b[0m             return [func(*args, **kwargs)\n\u001b[0;32m--> 263\u001b[0;31m                     for func, args, kwargs in self.items]\n\u001b[0m\u001b[1;32m    264\u001b[0m \u001b[0;34m\u001b[0m\u001b[0m\n\u001b[1;32m    265\u001b[0m     \u001b[0;32mdef\u001b[0m \u001b[0m__reduce__\u001b[0m\u001b[0;34m(\u001b[0m\u001b[0mself\u001b[0m\u001b[0;34m)\u001b[0m\u001b[0;34m:\u001b[0m\u001b[0;34m\u001b[0m\u001b[0;34m\u001b[0m\u001b[0m\n",
            "\u001b[0;32m/usr/local/lib/python3.7/dist-packages/joblib/parallel.py\u001b[0m in \u001b[0;36m<listcomp>\u001b[0;34m(.0)\u001b[0m\n\u001b[1;32m    261\u001b[0m         \u001b[0;32mwith\u001b[0m \u001b[0mparallel_backend\u001b[0m\u001b[0;34m(\u001b[0m\u001b[0mself\u001b[0m\u001b[0;34m.\u001b[0m\u001b[0m_backend\u001b[0m\u001b[0;34m,\u001b[0m \u001b[0mn_jobs\u001b[0m\u001b[0;34m=\u001b[0m\u001b[0mself\u001b[0m\u001b[0;34m.\u001b[0m\u001b[0m_n_jobs\u001b[0m\u001b[0;34m)\u001b[0m\u001b[0;34m:\u001b[0m\u001b[0;34m\u001b[0m\u001b[0;34m\u001b[0m\u001b[0m\n\u001b[1;32m    262\u001b[0m             return [func(*args, **kwargs)\n\u001b[0;32m--> 263\u001b[0;31m                     for func, args, kwargs in self.items]\n\u001b[0m\u001b[1;32m    264\u001b[0m \u001b[0;34m\u001b[0m\u001b[0m\n\u001b[1;32m    265\u001b[0m     \u001b[0;32mdef\u001b[0m \u001b[0m__reduce__\u001b[0m\u001b[0;34m(\u001b[0m\u001b[0mself\u001b[0m\u001b[0;34m)\u001b[0m\u001b[0;34m:\u001b[0m\u001b[0;34m\u001b[0m\u001b[0;34m\u001b[0m\u001b[0m\n",
            "\u001b[0;32m/usr/local/lib/python3.7/dist-packages/sklearn/linear_model/_logistic.py\u001b[0m in \u001b[0;36m_logistic_regression_path\u001b[0;34m(X, y, pos_class, Cs, fit_intercept, max_iter, tol, verbose, solver, coef, class_weight, dual, penalty, intercept_scaling, multi_class, random_state, check_input, max_squared_sum, sample_weight, l1_ratio)\u001b[0m\n\u001b[1;32m    934\u001b[0m                 \u001b[0mfunc\u001b[0m\u001b[0;34m,\u001b[0m \u001b[0mw0\u001b[0m\u001b[0;34m,\u001b[0m \u001b[0mmethod\u001b[0m\u001b[0;34m=\u001b[0m\u001b[0;34m\"L-BFGS-B\"\u001b[0m\u001b[0;34m,\u001b[0m \u001b[0mjac\u001b[0m\u001b[0;34m=\u001b[0m\u001b[0;32mTrue\u001b[0m\u001b[0;34m,\u001b[0m\u001b[0;34m\u001b[0m\u001b[0;34m\u001b[0m\u001b[0m\n\u001b[1;32m    935\u001b[0m                 \u001b[0margs\u001b[0m\u001b[0;34m=\u001b[0m\u001b[0;34m(\u001b[0m\u001b[0mX\u001b[0m\u001b[0;34m,\u001b[0m \u001b[0mtarget\u001b[0m\u001b[0;34m,\u001b[0m \u001b[0;36m1.\u001b[0m \u001b[0;34m/\u001b[0m \u001b[0mC\u001b[0m\u001b[0;34m,\u001b[0m \u001b[0msample_weight\u001b[0m\u001b[0;34m)\u001b[0m\u001b[0;34m,\u001b[0m\u001b[0;34m\u001b[0m\u001b[0;34m\u001b[0m\u001b[0m\n\u001b[0;32m--> 936\u001b[0;31m                 \u001b[0moptions\u001b[0m\u001b[0;34m=\u001b[0m\u001b[0;34m{\u001b[0m\u001b[0;34m\"iprint\"\u001b[0m\u001b[0;34m:\u001b[0m \u001b[0miprint\u001b[0m\u001b[0;34m,\u001b[0m \u001b[0;34m\"gtol\"\u001b[0m\u001b[0;34m:\u001b[0m \u001b[0mtol\u001b[0m\u001b[0;34m,\u001b[0m \u001b[0;34m\"maxiter\"\u001b[0m\u001b[0;34m:\u001b[0m \u001b[0mmax_iter\u001b[0m\u001b[0;34m}\u001b[0m\u001b[0;34m\u001b[0m\u001b[0;34m\u001b[0m\u001b[0m\n\u001b[0m\u001b[1;32m    937\u001b[0m             )\n\u001b[1;32m    938\u001b[0m             n_iter_i = _check_optimize_result(\n",
            "\u001b[0;32m/usr/local/lib/python3.7/dist-packages/scipy/optimize/_minimize.py\u001b[0m in \u001b[0;36mminimize\u001b[0;34m(fun, x0, args, method, jac, hess, hessp, bounds, constraints, tol, callback, options)\u001b[0m\n\u001b[1;32m    608\u001b[0m     \u001b[0;32melif\u001b[0m \u001b[0mmeth\u001b[0m \u001b[0;34m==\u001b[0m \u001b[0;34m'l-bfgs-b'\u001b[0m\u001b[0;34m:\u001b[0m\u001b[0;34m\u001b[0m\u001b[0;34m\u001b[0m\u001b[0m\n\u001b[1;32m    609\u001b[0m         return _minimize_lbfgsb(fun, x0, args, jac, bounds,\n\u001b[0;32m--> 610\u001b[0;31m                                 callback=callback, **options)\n\u001b[0m\u001b[1;32m    611\u001b[0m     \u001b[0;32melif\u001b[0m \u001b[0mmeth\u001b[0m \u001b[0;34m==\u001b[0m \u001b[0;34m'tnc'\u001b[0m\u001b[0;34m:\u001b[0m\u001b[0;34m\u001b[0m\u001b[0;34m\u001b[0m\u001b[0m\n\u001b[1;32m    612\u001b[0m         return _minimize_tnc(fun, x0, args, jac, bounds, callback=callback,\n",
            "\u001b[0;32m/usr/local/lib/python3.7/dist-packages/scipy/optimize/lbfgsb.py\u001b[0m in \u001b[0;36m_minimize_lbfgsb\u001b[0;34m(fun, x0, args, jac, bounds, disp, maxcor, ftol, gtol, eps, maxfun, maxiter, iprint, callback, maxls, **unknown_options)\u001b[0m\n\u001b[1;32m    343\u001b[0m             \u001b[0;31m# until the completion of the current minimization iteration.\u001b[0m\u001b[0;34m\u001b[0m\u001b[0;34m\u001b[0m\u001b[0;34m\u001b[0m\u001b[0m\n\u001b[1;32m    344\u001b[0m             \u001b[0;31m# Overwrite f and g:\u001b[0m\u001b[0;34m\u001b[0m\u001b[0;34m\u001b[0m\u001b[0;34m\u001b[0m\u001b[0m\n\u001b[0;32m--> 345\u001b[0;31m             \u001b[0mf\u001b[0m\u001b[0;34m,\u001b[0m \u001b[0mg\u001b[0m \u001b[0;34m=\u001b[0m \u001b[0mfunc_and_grad\u001b[0m\u001b[0;34m(\u001b[0m\u001b[0mx\u001b[0m\u001b[0;34m)\u001b[0m\u001b[0;34m\u001b[0m\u001b[0;34m\u001b[0m\u001b[0m\n\u001b[0m\u001b[1;32m    346\u001b[0m         \u001b[0;32melif\u001b[0m \u001b[0mtask_str\u001b[0m\u001b[0;34m.\u001b[0m\u001b[0mstartswith\u001b[0m\u001b[0;34m(\u001b[0m\u001b[0;34mb'NEW_X'\u001b[0m\u001b[0;34m)\u001b[0m\u001b[0;34m:\u001b[0m\u001b[0;34m\u001b[0m\u001b[0;34m\u001b[0m\u001b[0m\n\u001b[1;32m    347\u001b[0m             \u001b[0;31m# new iteration\u001b[0m\u001b[0;34m\u001b[0m\u001b[0;34m\u001b[0m\u001b[0;34m\u001b[0m\u001b[0m\n",
            "\u001b[0;32m/usr/local/lib/python3.7/dist-packages/scipy/optimize/lbfgsb.py\u001b[0m in \u001b[0;36mfunc_and_grad\u001b[0;34m(x)\u001b[0m\n\u001b[1;32m    293\u001b[0m     \u001b[0;32melse\u001b[0m\u001b[0;34m:\u001b[0m\u001b[0;34m\u001b[0m\u001b[0;34m\u001b[0m\u001b[0m\n\u001b[1;32m    294\u001b[0m         \u001b[0;32mdef\u001b[0m \u001b[0mfunc_and_grad\u001b[0m\u001b[0;34m(\u001b[0m\u001b[0mx\u001b[0m\u001b[0;34m)\u001b[0m\u001b[0;34m:\u001b[0m\u001b[0;34m\u001b[0m\u001b[0;34m\u001b[0m\u001b[0m\n\u001b[0;32m--> 295\u001b[0;31m             \u001b[0mf\u001b[0m \u001b[0;34m=\u001b[0m \u001b[0mfun\u001b[0m\u001b[0;34m(\u001b[0m\u001b[0mx\u001b[0m\u001b[0;34m,\u001b[0m \u001b[0;34m*\u001b[0m\u001b[0margs\u001b[0m\u001b[0;34m)\u001b[0m\u001b[0;34m\u001b[0m\u001b[0;34m\u001b[0m\u001b[0m\n\u001b[0m\u001b[1;32m    296\u001b[0m             \u001b[0mg\u001b[0m \u001b[0;34m=\u001b[0m \u001b[0mjac\u001b[0m\u001b[0;34m(\u001b[0m\u001b[0mx\u001b[0m\u001b[0;34m,\u001b[0m \u001b[0;34m*\u001b[0m\u001b[0margs\u001b[0m\u001b[0;34m)\u001b[0m\u001b[0;34m\u001b[0m\u001b[0;34m\u001b[0m\u001b[0m\n\u001b[1;32m    297\u001b[0m             \u001b[0;32mreturn\u001b[0m \u001b[0mf\u001b[0m\u001b[0;34m,\u001b[0m \u001b[0mg\u001b[0m\u001b[0;34m\u001b[0m\u001b[0;34m\u001b[0m\u001b[0m\n",
            "\u001b[0;32m/usr/local/lib/python3.7/dist-packages/scipy/optimize/optimize.py\u001b[0m in \u001b[0;36mfunction_wrapper\u001b[0;34m(*wrapper_args)\u001b[0m\n\u001b[1;32m    325\u001b[0m     \u001b[0;32mdef\u001b[0m \u001b[0mfunction_wrapper\u001b[0m\u001b[0;34m(\u001b[0m\u001b[0;34m*\u001b[0m\u001b[0mwrapper_args\u001b[0m\u001b[0;34m)\u001b[0m\u001b[0;34m:\u001b[0m\u001b[0;34m\u001b[0m\u001b[0;34m\u001b[0m\u001b[0m\n\u001b[1;32m    326\u001b[0m         \u001b[0mncalls\u001b[0m\u001b[0;34m[\u001b[0m\u001b[0;36m0\u001b[0m\u001b[0;34m]\u001b[0m \u001b[0;34m+=\u001b[0m \u001b[0;36m1\u001b[0m\u001b[0;34m\u001b[0m\u001b[0;34m\u001b[0m\u001b[0m\n\u001b[0;32m--> 327\u001b[0;31m         \u001b[0;32mreturn\u001b[0m \u001b[0mfunction\u001b[0m\u001b[0;34m(\u001b[0m\u001b[0;34m*\u001b[0m\u001b[0;34m(\u001b[0m\u001b[0mwrapper_args\u001b[0m \u001b[0;34m+\u001b[0m \u001b[0margs\u001b[0m\u001b[0;34m)\u001b[0m\u001b[0;34m)\u001b[0m\u001b[0;34m\u001b[0m\u001b[0;34m\u001b[0m\u001b[0m\n\u001b[0m\u001b[1;32m    328\u001b[0m \u001b[0;34m\u001b[0m\u001b[0m\n\u001b[1;32m    329\u001b[0m     \u001b[0;32mreturn\u001b[0m \u001b[0mncalls\u001b[0m\u001b[0;34m,\u001b[0m \u001b[0mfunction_wrapper\u001b[0m\u001b[0;34m\u001b[0m\u001b[0;34m\u001b[0m\u001b[0m\n",
            "\u001b[0;32m/usr/local/lib/python3.7/dist-packages/scipy/optimize/optimize.py\u001b[0m in \u001b[0;36m__call__\u001b[0;34m(self, x, *args)\u001b[0m\n\u001b[1;32m     63\u001b[0m     \u001b[0;32mdef\u001b[0m \u001b[0m__call__\u001b[0m\u001b[0;34m(\u001b[0m\u001b[0mself\u001b[0m\u001b[0;34m,\u001b[0m \u001b[0mx\u001b[0m\u001b[0;34m,\u001b[0m \u001b[0;34m*\u001b[0m\u001b[0margs\u001b[0m\u001b[0;34m)\u001b[0m\u001b[0;34m:\u001b[0m\u001b[0;34m\u001b[0m\u001b[0;34m\u001b[0m\u001b[0m\n\u001b[1;32m     64\u001b[0m         \u001b[0mself\u001b[0m\u001b[0;34m.\u001b[0m\u001b[0mx\u001b[0m \u001b[0;34m=\u001b[0m \u001b[0mnumpy\u001b[0m\u001b[0;34m.\u001b[0m\u001b[0masarray\u001b[0m\u001b[0;34m(\u001b[0m\u001b[0mx\u001b[0m\u001b[0;34m)\u001b[0m\u001b[0;34m.\u001b[0m\u001b[0mcopy\u001b[0m\u001b[0;34m(\u001b[0m\u001b[0;34m)\u001b[0m\u001b[0;34m\u001b[0m\u001b[0;34m\u001b[0m\u001b[0m\n\u001b[0;32m---> 65\u001b[0;31m         \u001b[0mfg\u001b[0m \u001b[0;34m=\u001b[0m \u001b[0mself\u001b[0m\u001b[0;34m.\u001b[0m\u001b[0mfun\u001b[0m\u001b[0;34m(\u001b[0m\u001b[0mx\u001b[0m\u001b[0;34m,\u001b[0m \u001b[0;34m*\u001b[0m\u001b[0margs\u001b[0m\u001b[0;34m)\u001b[0m\u001b[0;34m\u001b[0m\u001b[0;34m\u001b[0m\u001b[0m\n\u001b[0m\u001b[1;32m     66\u001b[0m         \u001b[0mself\u001b[0m\u001b[0;34m.\u001b[0m\u001b[0mjac\u001b[0m \u001b[0;34m=\u001b[0m \u001b[0mfg\u001b[0m\u001b[0;34m[\u001b[0m\u001b[0;36m1\u001b[0m\u001b[0;34m]\u001b[0m\u001b[0;34m\u001b[0m\u001b[0;34m\u001b[0m\u001b[0m\n\u001b[1;32m     67\u001b[0m         \u001b[0;32mreturn\u001b[0m \u001b[0mfg\u001b[0m\u001b[0;34m[\u001b[0m\u001b[0;36m0\u001b[0m\u001b[0;34m]\u001b[0m\u001b[0;34m\u001b[0m\u001b[0;34m\u001b[0m\u001b[0m\n",
            "\u001b[0;31mKeyboardInterrupt\u001b[0m: "
          ]
        }
      ]
    },
    {
      "cell_type": "code",
      "metadata": {
        "id": "B57jUHHIcj9S"
      },
      "source": [
        "print(\"WEIGHTED LR PERFORMANCE: \")\n",
        "print(f'Training Score: {clf_wlr.score(X_train, y_train)}')\n",
        "print(f'Validation Score: {clf_wlr.score(X_test, y_test)}')\n",
        "# [[TN, FP], \n",
        "#  [FN, TP]]\n",
        "print(f'Confusion Matrix: \\n{confusion_matrix(y_test, y_pred_wlr)}')\n",
        "print(f'Area Under Curve (ROC AUC Score): {roc_auc_score(y_test, y_pred_wlr)}')\n",
        "print(f'Recall score: {recall_score(y_test, y_pred_wlr)}')\n",
        "print(f'Precision score: {precision_score(y_test, y_pred_wlr)}')\n",
        "print(f'F2 score: {fbeta_score(y_test, y_pred_wlr, beta=2)}')\n",
        "\n",
        "# use evaluation metric\n",
        "# predict probabilities\n",
        "lr_probs = clf_wlr.predict_proba(X_test)\n",
        "# keep probabilities for the positive outcome only\n",
        "lr_probs = lr_probs[:, 1]\n",
        "lr_fpr, lr_tpr, _ = roc_curve(y_test, lr_probs)\n",
        "print(\"Testing \",end=\"\")\n",
        "eval_roc(lr_fpr,lr_tpr)\n",
        "print(\"Training \",end=\"\")\n",
        "lr_probs = clf_wlr.predict_proba(X_train)\n",
        "# keep probabilities for the positive outcome only\n",
        "lr_probs = lr_probs[:, 1]\n",
        "lr_fpr, lr_tpr, _ = roc_curve(y_train, lr_probs)\n",
        "eval_roc(lr_fpr,lr_tpr)"
      ],
      "execution_count": null,
      "outputs": []
    },
    {
      "cell_type": "markdown",
      "metadata": {
        "id": "KT66FLNAL1CJ"
      },
      "source": [
        "#### Cross Validated Weighted LR with ROC scoring"
      ]
    },
    {
      "cell_type": "code",
      "metadata": {
        "id": "S98CmSZ_JDIT"
      },
      "source": [
        "clf_wlrcv = LogisticRegressionCV(cv=5, random_state=13, max_iter=5000, class_weight=class_weights, scoring='roc_auc').fit(X_train, y_train)\n",
        "y_pred_wlrcv = clf_wlrcv.predict(X_test)"
      ],
      "execution_count": null,
      "outputs": []
    },
    {
      "cell_type": "code",
      "metadata": {
        "id": "uc_Euiu-a1K4"
      },
      "source": [
        "print(\"WEIGHTED LR WITH CV PERFORMANCE: \")\n",
        "print(f'Training Score: {clf_wlrcv.score(X_train, y_train)}')\n",
        "print(f'Validation Score: {clf_wlrcv.score(X_test, y_test)}')\n",
        "# [[TN, FP], \n",
        "#  [FN, TP]]\n",
        "print(f'Confusion Matrix: \\n{confusion_matrix(y_test, y_pred_wlrcv)}')\n",
        "print(f'Area Under Curve (ROC AUC Score): {roc_auc_score(y_test, y_pred_wlrcv)}')\n",
        "print(f'Recall score: {recall_score(y_test, y_pred_wlrcv)}')\n",
        "print(f'Precision score: {precision_score(y_test, y_pred_wlrcv)}')\n",
        "print(f'F2 score: {fbeta_score(y_test, y_pred_wlrcv, beta=2)}')"
      ],
      "execution_count": null,
      "outputs": []
    },
    {
      "cell_type": "code",
      "metadata": {
        "id": "7bNgeP0k6bIw"
      },
      "source": [
        "#Get Precision-Recall curve weighted model\n",
        "\n",
        "# predict probabilities\n",
        "lr_probs = clf_wlrcv.predict_proba(X_test)\n",
        "# keep probabilities for the positive outcome only\n",
        "lr_probs = lr_probs[:, 1]\n",
        "# predict class values\n",
        "yhat = clf_wlrcv.predict(X_test)\n",
        "lr_precision, lr_recall, _ = precision_recall_curve(y_test, lr_probs)\n",
        "lr_f1, lr_auc = f1_score(y_test, yhat), auc(lr_recall, lr_precision)\n",
        "# summarize scores\n",
        "print('Logistic: f1=%.3f auc=%.3f' % (lr_f1, lr_auc))\n",
        "# plot the precision-recall curves\n",
        "no_skill = len(y_test[y_test==1]) / len(y_test)\n",
        "pyplot.plot([0, 1], [no_skill, no_skill], linestyle='--', label='No Skill')\n",
        "pyplot.plot(lr_recall, lr_precision, marker='.', label='Logistic')\n",
        "# axis labels\n",
        "pyplot.xlabel('Recall')\n",
        "pyplot.ylabel('Precision')\n",
        "pyplot.title('Precision-Recall Weighted LR')\n",
        "# show the legend\n",
        "pyplot.legend()\n",
        "# show the plot\n",
        "pyplot.savefig(FOLDERNAME_AMY + '/precision_recall_curve_weighted_lr_jun1.png', bbox_inches ='tight')\n",
        "pyplot.show()"
      ],
      "execution_count": null,
      "outputs": []
    },
    {
      "cell_type": "code",
      "metadata": {
        "id": "Qxdd-UK76bpg"
      },
      "source": [
        "#Get ROC (probably not so good since we have class imbalance) weighted model\n",
        "\n",
        "# generate a no skill prediction (majority class)\n",
        "ns_probs = [0 for _ in range(len(y_test))]\n",
        "\n",
        "# predict probabilities\n",
        "lr_probs = clf_wlrcv.predict_proba(X_test)\n",
        "# keep probabilities for the positive outcome only\n",
        "lr_probs = lr_probs[:, 1]\n",
        "# calculate scores\n",
        "ns_auc = roc_auc_score(y_test, ns_probs)\n",
        "lr_auc = roc_auc_score(y_test, lr_probs)\n",
        "# summarize scores\n",
        "print('No Skill: ROC AUC=%.3f' % (ns_auc))\n",
        "print('Logistic: ROC AUC=%.3f' % (lr_auc))\n",
        "# calculate roc curves\n",
        "ns_fpr, ns_tpr, _ = roc_curve(y_test, ns_probs)\n",
        "lr_fpr, lr_tpr, _ = roc_curve(y_test, lr_probs)\n",
        "# plot the roc curve for the model\n",
        "pyplot.plot(ns_fpr, ns_tpr, linestyle='--', label='No Skill')\n",
        "pyplot.plot(lr_fpr, lr_tpr, marker='.', label='Logistic')\n",
        "# axis labels\n",
        "pyplot.xlabel('False Positive Rate')\n",
        "pyplot.ylabel('True Positive Rate')\n",
        "pyplot.title('ROC Weighted LR')\n",
        "# show the legend\n",
        "pyplot.legend()\n",
        "# show the plot\n",
        "pyplot.savefig(FOLDERNAME_AMY + '/ROC_weighted_lr_jun1.png', bbox_inches ='tight')\n",
        "pyplot.show()\n",
        "\n",
        "# use evaluation metric\n",
        "print(\"Testing \",end=\"\")\n",
        "eval_roc(lr_fpr,lr_tpr)\n",
        "print(\"Training \",end=\"\")\n",
        "lr_probs = clf_wlrcv.predict_proba(X_train)\n",
        "# keep probabilities for the positive outcome only\n",
        "lr_probs = lr_probs[:, 1]\n",
        "lr_fpr, lr_tpr, _ = roc_curve(y_train, lr_probs)\n",
        "eval_roc(lr_fpr,lr_tpr)"
      ],
      "execution_count": null,
      "outputs": []
    },
    {
      "cell_type": "markdown",
      "metadata": {
        "id": "SztnNC2veLcV"
      },
      "source": [
        "#### Weighted LR with Grid Search for Weights (ROC Scoring)\n"
      ]
    },
    {
      "cell_type": "code",
      "metadata": {
        "id": "FXuCTCireLBO"
      },
      "source": [
        "lr = LogisticRegression(random_state=13, max_iter=5000)\n",
        "weights = np.linspace(0.90,0.99,20)\n",
        "param_grid = {'class_weight': [{0:1.0-x, 1:x} for x in weights]}\n",
        "# print(param_grid)\n",
        "\n",
        "# define evaluation procedure\n",
        "cv = StratifiedKFold(n_splits=5, random_state=1)\n",
        "# define grid search\n",
        "grid = GridSearchCV(estimator=lr, param_grid=param_grid, n_jobs=-1, cv=cv, scoring='roc_auc').fit(X_train, y_train)\n",
        "print(\"Best: %f using %s\" % (grid.best_score_, grid.best_params_))"
      ],
      "execution_count": null,
      "outputs": []
    },
    {
      "cell_type": "code",
      "metadata": {
        "id": "4mLC7rPBe0f9"
      },
      "source": [
        "y_pred_wlrgs = grid.best_estimator_.predict(X_test)\n",
        "print(\"WEIGHTED LR WITH GRID SEARCH PERFORMANCE: \")\n",
        "print(f'Training Score: {grid.best_estimator_.score(X_train, y_train)}')\n",
        "print(f'Validation Score: {grid.best_estimator_.score(X_test, y_test)}')\n",
        "# [[TN, FP], \n",
        "#  [FN, TP]]\n",
        "print(f'Confusion Matrix: \\n{confusion_matrix(y_test, y_pred_wlrgs)}')\n",
        "print(f'Area Under Curve (ROC AUC Score): {roc_auc_score(y_test, y_pred_wlrgs)}')\n",
        "print(f'Recall score: {recall_score(y_test, y_pred_wlrgs)}')\n",
        "print(f'Precision score: {precision_score(y_test, y_pred_wlrgs)}')\n",
        "print(f'F2 score: {fbeta_score(y_test, y_pred_wlrgs, beta=2)}')"
      ],
      "execution_count": null,
      "outputs": []
    },
    {
      "cell_type": "markdown",
      "metadata": {
        "id": "a7CQikncFW0Q"
      },
      "source": [
        "From: https://machinelearningmastery.com/roc-curves-and-precision-recall-curves-for-classification-in-python/"
      ]
    },
    {
      "cell_type": "code",
      "metadata": {
        "id": "jc4HVMyNlyet"
      },
      "source": [
        "#Get Precision-Recall curve weighted model\n",
        "\n",
        "# predict probabilities\n",
        "lr_probs = grid.best_estimator_.predict_proba(X_test)\n",
        "# keep probabilities for the positive outcome only\n",
        "lr_probs = lr_probs[:, 1]\n",
        "# predict class values\n",
        "yhat = grid.best_estimator_.predict(X_test)\n",
        "lr_precision, lr_recall, _ = precision_recall_curve(y_test, lr_probs)\n",
        "lr_f1, lr_auc = f1_score(y_test, yhat), auc(lr_recall, lr_precision)\n",
        "# summarize scores\n",
        "print('Logistic: f1=%.3f auc=%.3f' % (lr_f1, lr_auc))\n",
        "# plot the precision-recall curves\n",
        "no_skill = len(y_test[y_test==1]) / len(y_test)\n",
        "pyplot.plot([0, 1], [no_skill, no_skill], linestyle='--', label='No Skill')\n",
        "pyplot.plot(lr_recall, lr_precision, marker='.', label='Logistic')\n",
        "# axis labels\n",
        "pyplot.xlabel('Recall')\n",
        "pyplot.ylabel('Precision')\n",
        "pyplot.title('Precision-Recall Weighted LR')\n",
        "# show the legend\n",
        "pyplot.legend()\n",
        "# show the plot\n",
        "pyplot.savefig(FOLDERNAME_AMY + '/precision_recall_curve_weighted_lr_gridsearch_jun1.png', bbox_inches ='tight')\n",
        "pyplot.show()"
      ],
      "execution_count": null,
      "outputs": []
    },
    {
      "cell_type": "code",
      "metadata": {
        "id": "F-uXRc6zFLil"
      },
      "source": [
        "#Get ROC (probably not so good since we have class imbalance) weighted model\n",
        "\n",
        "# generate a no skill prediction (majority class)\n",
        "ns_probs = [0 for _ in range(len(y_test))]\n",
        "\n",
        "# predict probabilities\n",
        "lr_probs = grid.best_estimator_.predict_proba(X_test)\n",
        "# keep probabilities for the positive outcome only\n",
        "lr_probs = lr_probs[:, 1]\n",
        "# calculate scores\n",
        "ns_auc = roc_auc_score(y_test, ns_probs)\n",
        "lr_auc = roc_auc_score(y_test, lr_probs)\n",
        "# summarize scores\n",
        "print('No Skill: ROC AUC=%.3f' % (ns_auc))\n",
        "print('Logistic: ROC AUC=%.3f' % (lr_auc))\n",
        "# calculate roc curves\n",
        "ns_fpr, ns_tpr, _ = roc_curve(y_test, ns_probs)\n",
        "lr_fpr, lr_tpr, _ = roc_curve(y_test, lr_probs)\n",
        "# plot the roc curve for the model\n",
        "pyplot.plot(ns_fpr, ns_tpr, linestyle='--', label='No Skill')\n",
        "pyplot.plot(lr_fpr, lr_tpr, marker='.', label='Logistic')\n",
        "# axis labels\n",
        "pyplot.xlabel('False Positive Rate')\n",
        "pyplot.ylabel('True Positive Rate')\n",
        "pyplot.title('ROC Weighted LR')\n",
        "# show the legend\n",
        "pyplot.legend()\n",
        "# show the plot\n",
        "pyplot.savefig(FOLDERNAME_AMY + '/ROC_weighted_lr_gridsearch_jun1.png', bbox_inches ='tight')\n",
        "pyplot.show()\n",
        "\n",
        "# use evaluation metric\n",
        "print(\"Testing \",end=\"\")\n",
        "eval_roc(lr_fpr,lr_tpr)\n",
        "print(\"Training \",end=\"\")\n",
        "lr_probs = grid.best_estimator_.predict_proba(X_train)\n",
        "# keep probabilities for the positive outcome only\n",
        "lr_probs = lr_probs[:, 1]\n",
        "lr_fpr, lr_tpr, _ = roc_curve(y_train, lr_probs)\n",
        "eval_roc(lr_fpr,lr_tpr)"
      ],
      "execution_count": null,
      "outputs": []
    },
    {
      "cell_type": "markdown",
      "metadata": {
        "id": "K8DjAlk4MYSe"
      },
      "source": [
        "## Logistic Regression with CV on Oversampling of Dataset\n",
        "Decided against undersampling (deleting majority class datapoints) just because we don't have that much data to begin with\n",
        "\n",
        "Useful link: https://machinelearningmastery.com/random-oversampling-and-undersampling-for-imbalanced-classification/"
      ]
    },
    {
      "cell_type": "code",
      "metadata": {
        "id": "uV3H64DQFvSy",
        "colab": {
          "base_uri": "https://localhost:8080/"
        },
        "outputId": "61389b7e-e7c0-40f3-a6e5-2771a7e42393"
      },
      "source": [
        "# example of random oversampling to balance the class distribution\n",
        "from collections import Counter\n",
        "from sklearn.datasets import make_classification\n",
        "from imblearn.over_sampling import RandomOverSampler\n",
        "\n",
        "\n",
        "# define oversampling strategy, makes minority class even with majority class, only done for training data\n",
        "oversample = RandomOverSampler(sampling_strategy='minority')\n",
        "X_over, y_over = oversample.fit_resample(X_train, y_train)\n",
        "# print(Counter(y_over), Counter(y_train))\n",
        "clf_over = LogisticRegression(random_state=13, max_iter=5000).fit(X_over, y_over)\n",
        "y_pred_over = clf_over.predict(X_test)\n",
        "\n",
        "print(\"NORMAL (UNWEIGHTED) LR PERFORMANCE ON OVERSAMPLED TRAINING SET: \")\n",
        "print(f'Training Score: {clf_over.score(X_over, y_over)}')\n",
        "print(f'Validation Score: {clf_over.score(X_test, y_test)}')\n",
        "# [[TN, FP], \n",
        "#  [FN, TP]]\n",
        "print(f'Confusion Matrix: \\n{confusion_matrix(y_test, y_pred_over)}')\n",
        "print(f'Area Under Curve (ROC AUC Score): {roc_auc_score(y_test, y_pred_over)}')\n",
        "print(f'Recall score: {recall_score(y_test,y_pred_over)}')\n",
        "print(f'Precision score: {precision_score(y_test,y_pred_over)}')\n",
        "print(f'F2 score: {fbeta_score(y_test, y_pred_over, beta=2)}')"
      ],
      "execution_count": null,
      "outputs": [
        {
          "output_type": "stream",
          "text": [
            "/usr/local/lib/python3.7/dist-packages/sklearn/externals/six.py:31: FutureWarning: The module is deprecated in version 0.21 and will be removed in version 0.23 since we've dropped support for Python 2.7. Please rely on the official version of six (https://pypi.org/project/six/).\n",
            "  \"(https://pypi.org/project/six/).\", FutureWarning)\n",
            "/usr/local/lib/python3.7/dist-packages/sklearn/utils/deprecation.py:144: FutureWarning: The sklearn.neighbors.base module is  deprecated in version 0.22 and will be removed in version 0.24. The corresponding classes / functions should instead be imported from sklearn.neighbors. Anything that cannot be imported from sklearn.neighbors is now part of the private API.\n",
            "  warnings.warn(message, FutureWarning)\n",
            "/usr/local/lib/python3.7/dist-packages/sklearn/utils/deprecation.py:87: FutureWarning: Function safe_indexing is deprecated; safe_indexing is deprecated in version 0.22 and will be removed in version 0.24.\n",
            "  warnings.warn(msg, category=FutureWarning)\n"
          ],
          "name": "stderr"
        },
        {
          "output_type": "stream",
          "text": [
            "NORMAL (UNWEIGHTED) LR PERFORMANCE ON OVERSAMPLED TRAINING SET: \n",
            "Training Score: 0.6703496843127732\n",
            "Validation Score: 0.6297668858338314\n",
            "Confusion Matrix: \n",
            "[[5172 3058]\n",
            " [  39   96]]\n",
            "Area Under Curve (ROC AUC Score): 0.6697718374510597\n",
            "Recall score: 0.7111111111111111\n",
            "Precision score: 0.030437539632213063\n",
            "F2 score: 0.12994044396318352\n"
          ],
          "name": "stdout"
        }
      ]
    },
    {
      "cell_type": "code",
      "metadata": {
        "id": "Zh7E51D78T7Q"
      },
      "source": [
        "#Get Precision-Recall curve weighted model\n",
        "\n",
        "# predict probabilities\n",
        "lr_probs = clf_over.predict_proba(X_test)\n",
        "# keep probabilities for the positive outcome only\n",
        "lr_probs = lr_probs[:, 1]\n",
        "# predict class values\n",
        "yhat = clf_over.predict(X_test)\n",
        "lr_precision, lr_recall, _ = precision_recall_curve(y_test, lr_probs)\n",
        "lr_f1, lr_auc = f1_score(y_test, yhat), auc(lr_recall, lr_precision)\n",
        "# summarize scores\n",
        "print('Logistic: f1=%.3f auc=%.3f' % (lr_f1, lr_auc))\n",
        "# plot the precision-recall curves\n",
        "no_skill = len(y_test[y_test==1]) / len(y_test)\n",
        "pyplot.plot([0, 1], [no_skill, no_skill], linestyle='--', label='No Skill')\n",
        "pyplot.plot(lr_recall, lr_precision, marker='.', label='Logistic')\n",
        "# axis labels\n",
        "pyplot.xlabel('Recall')\n",
        "pyplot.ylabel('Precision')\n",
        "pyplot.title('Precision-Recall Weighted LR')\n",
        "# show the legend\n",
        "pyplot.legend()\n",
        "# show the plot\n",
        "pyplot.savefig(FOLDERNAME_AMY + '/precision_recall_curve_lr_oversampled_jun1.png', bbox_inches ='tight')\n",
        "pyplot.show()"
      ],
      "execution_count": null,
      "outputs": []
    },
    {
      "cell_type": "code",
      "metadata": {
        "id": "BYHHgtlK8US7"
      },
      "source": [
        "#Get ROC (probably not so good since we have class imbalance) weighted model\n",
        "\n",
        "# generate a no skill prediction (majority class)\n",
        "ns_probs = [0 for _ in range(len(y_test))]\n",
        "\n",
        "# predict probabilities\n",
        "lr_probs = clf_over.predict_proba(X_test)\n",
        "# keep probabilities for the positive outcome only\n",
        "lr_probs = lr_probs[:, 1]\n",
        "# calculate scores\n",
        "ns_auc = roc_auc_score(y_test, ns_probs)\n",
        "lr_auc = roc_auc_score(y_test, lr_probs)\n",
        "# summarize scores\n",
        "print('No Skill: ROC AUC=%.3f' % (ns_auc))\n",
        "print('Logistic: ROC AUC=%.3f' % (lr_auc))\n",
        "# calculate roc curves\n",
        "ns_fpr, ns_tpr, _ = roc_curve(y_test, ns_probs)\n",
        "lr_fpr, lr_tpr, _ = roc_curve(y_test, lr_probs)\n",
        "# plot the roc curve for the model\n",
        "pyplot.plot(ns_fpr, ns_tpr, linestyle='--', label='No Skill')\n",
        "pyplot.plot(lr_fpr, lr_tpr, marker='.', label='Logistic')\n",
        "# axis labels\n",
        "pyplot.xlabel('False Positive Rate')\n",
        "pyplot.ylabel('True Positive Rate')\n",
        "pyplot.title('ROC Weighted LR')\n",
        "# show the legend\n",
        "pyplot.legend()\n",
        "# show the plot\n",
        "pyplot.savefig(FOLDERNAME_AMY + '/ROC_lr_oversampled_jun1.png', bbox_inches ='tight')\n",
        "pyplot.show()\n",
        "\n",
        "# use evaluation metric\n",
        "print(\"Testing \",end=\"\")\n",
        "eval_roc(lr_fpr,lr_tpr)\n",
        "print(\"Training \",end=\"\")\n",
        "lr_probs = clf_over.predict_proba(X_train)\n",
        "# keep probabilities for the positive outcome only\n",
        "lr_probs = lr_probs[:, 1]\n",
        "lr_fpr, lr_tpr, _ = roc_curve(y_train, lr_probs)\n",
        "eval_roc(lr_fpr,lr_tpr)"
      ],
      "execution_count": null,
      "outputs": []
    },
    {
      "cell_type": "code",
      "metadata": {
        "id": "RabnH0vFb02i"
      },
      "source": [
        "clf_overcv = LogisticRegressionCV(cv=5, random_state=13, max_iter=5000, scoring='roc_auc').fit(X_over, y_over)\n",
        "y_pred_overcv = clf_overcv.predict(X_test)\n",
        "print(\"NORMAL (UNWEIGHTED) LR PERFORMANCE WITH CV ON OVERSAMPLED TRAINING SET: \")\n",
        "print(f'Training Score: {clf_overcv.score(X_over, y_over)}')\n",
        "print(f'Validation Score: {clf_overcv.score(X_test, y_test)}')\n",
        "# [[TN, FP], \n",
        "#  [FN, TP]]\n",
        "print(f'Confusion Matrix: \\n{confusion_matrix(y_test, y_pred_overcv)}')\n",
        "print(f'Area Under Curve (ROC AUC Score): {roc_auc_score(y_test, y_pred_overcv)}')\n",
        "print(f'Recall score: {recall_score(y_test,y_pred_overcv)}')\n",
        "print(f'Precision score: {precision_score(y_test,y_pred_overcv)}')\n",
        "print(f'F2 score: {fbeta_score(y_test, y_pred_overcv, beta=2)}')\n",
        "\n",
        "# use evaluation metric\n",
        "print(\"Testing \",end=\"\")\n",
        "lr_probs = clf_overcv.predict_proba(X_test)\n",
        "# keep probabilities for the positive outcome only\n",
        "lr_probs = lr_probs[:, 1]\n",
        "lr_fpr, lr_tpr, _ = roc_curve(y_test, lr_probs)\n",
        "eval_roc(lr_fpr,lr_tpr)\n",
        "print(\"Training \",end=\"\")\n",
        "lr_probs = clf_overcv.predict_proba(X_train)\n",
        "# keep probabilities for the positive outcome only\n",
        "lr_probs = lr_probs[:, 1]\n",
        "lr_fpr, lr_tpr, _ = roc_curve(y_train, lr_probs)\n",
        "eval_roc(lr_fpr,lr_tpr)"
      ],
      "execution_count": null,
      "outputs": []
    },
    {
      "cell_type": "markdown",
      "metadata": {
        "id": "d0u56JQ3esKh"
      },
      "source": [
        "## Combo oversampling and undersampling (supposed to reduce overfitting)"
      ]
    },
    {
      "cell_type": "code",
      "metadata": {
        "id": "PlpkCYGONjrV"
      },
      "source": [
        "from imblearn.under_sampling import RandomUnderSampler\n",
        "\n",
        "# define oversampling strategy\n",
        "over = RandomOverSampler(sampling_strategy=0.1)\n",
        "# fit and apply the transform\n",
        "X_over2, y_over2 = over.fit_resample(X_train, y_train)\n",
        "# define undersampling strategy\n",
        "under = RandomUnderSampler(sampling_strategy=0.5)\n",
        "# fit and apply the transform\n",
        "X_combined, y_combined = under.fit_resample(X_over2, y_over2)\n",
        "\n",
        "clf_combo = LogisticRegressionCV(cv=5, random_state=13, max_iter=5000, scoring='roc_auc').fit(X_combined, y_combined)\n",
        "y_pred_combo = clf_combo.predict(X_test)\n",
        "\n",
        "print(\"NORMAL (UNWEIGHTED) LR PERFORMANCE ON OVERSAMPLED & UNDERSAMPLED TRAINING SET: \")\n",
        "print(f'Training Score: {clf_combo.score(X_combined, y_combined)}')\n",
        "print(f'Validation Score: {clf_combo.score(X_test, y_test)}')\n",
        "# [[TN, FP], \n",
        "#  [FN, TP]]\n",
        "print(f'Confusion Matrix: \\n{confusion_matrix(y_test, y_pred_combo)}')\n",
        "print(f'Area Under Curve (ROC AUC Score): {roc_auc_score(y_test, y_pred_combo)}')\n",
        "print(f'Recall score: {recall_score(y_test,y_pred_combo)}')\n",
        "print(f'Precision score: {precision_score(y_test,y_pred_combo)}')\n",
        "print(f'F2 score: {fbeta_score(y_test, y_pred_combo, beta=2)}')"
      ],
      "execution_count": null,
      "outputs": []
    },
    {
      "cell_type": "code",
      "metadata": {
        "id": "EINDWQEM81Vc"
      },
      "source": [
        "#Get Precision-Recall curve weighted model\n",
        "\n",
        "# predict probabilities\n",
        "lr_probs = clf_combo.predict_proba(X_test)\n",
        "# keep probabilities for the positive outcome only\n",
        "lr_probs = lr_probs[:, 1]\n",
        "# predict class values\n",
        "yhat = clf_combo.predict(X_test)\n",
        "lr_precision, lr_recall, _ = precision_recall_curve(y_test, lr_probs)\n",
        "lr_f1, lr_auc = f1_score(y_test, yhat), auc(lr_recall, lr_precision)\n",
        "# summarize scores\n",
        "print('Logistic: f1=%.3f auc=%.3f' % (lr_f1, lr_auc))\n",
        "# plot the precision-recall curves\n",
        "no_skill = len(y_test[y_test==1]) / len(y_test)\n",
        "pyplot.plot([0, 1], [no_skill, no_skill], linestyle='--', label='No Skill')\n",
        "pyplot.plot(lr_recall, lr_precision, marker='.', label='Logistic')\n",
        "# axis labels\n",
        "pyplot.xlabel('Recall')\n",
        "pyplot.ylabel('Precision')\n",
        "pyplot.title('Precision-Recall Weighted LR')\n",
        "# show the legend\n",
        "pyplot.legend()\n",
        "# show the plot\n",
        "pyplot.savefig(FOLDERNAME_AMY + '/precision_recall_curve_lr_combosample_jun1.png', bbox_inches ='tight')\n",
        "pyplot.show()"
      ],
      "execution_count": null,
      "outputs": []
    },
    {
      "cell_type": "code",
      "metadata": {
        "id": "2slCkKg-823O"
      },
      "source": [
        "#Get ROC (probably not so good since we have class imbalance) weighted model\n",
        "\n",
        "# generate a no skill prediction (majority class)\n",
        "ns_probs = [0 for _ in range(len(y_test))]\n",
        "\n",
        "# predict probabilities\n",
        "lr_probs = clf_combo.predict_proba(X_test)\n",
        "# keep probabilities for the positive outcome only\n",
        "lr_probs = lr_probs[:, 1]\n",
        "# calculate scores\n",
        "ns_auc = roc_auc_score(y_test, ns_probs)\n",
        "lr_auc = roc_auc_score(y_test, lr_probs)\n",
        "# summarize scores\n",
        "print('No Skill: ROC AUC=%.3f' % (ns_auc))\n",
        "print('Logistic: ROC AUC=%.3f' % (lr_auc))\n",
        "# calculate roc curves\n",
        "ns_fpr, ns_tpr, _ = roc_curve(y_test, ns_probs)\n",
        "lr_fpr, lr_tpr, _ = roc_curve(y_test, lr_probs)\n",
        "# plot the roc curve for the model\n",
        "pyplot.plot(ns_fpr, ns_tpr, linestyle='--', label='No Skill')\n",
        "pyplot.plot(lr_fpr, lr_tpr, marker='.', label='Logistic')\n",
        "# axis labels\n",
        "pyplot.xlabel('False Positive Rate')\n",
        "pyplot.ylabel('True Positive Rate')\n",
        "pyplot.title('ROC Weighted LR')\n",
        "# show the legend\n",
        "pyplot.legend()\n",
        "# show the plot\n",
        "pyplot.savefig(FOLDERNAME_AMY + '/ROC_lr_combosample_jun1.png', bbox_inches ='tight')\n",
        "pyplot.show()\n",
        "\n",
        "# use evaluation metric\n",
        "print(\"Testing \",end=\"\")\n",
        "eval_roc(lr_fpr,lr_tpr)\n",
        "print(\"Training \",end=\"\")\n",
        "lr_probs = clf_combo.predict_proba(X_train)\n",
        "# keep probabilities for the positive outcome only\n",
        "lr_probs = lr_probs[:, 1]\n",
        "lr_fpr, lr_tpr, _ = roc_curve(y_train, lr_probs)\n",
        "eval_roc(lr_fpr,lr_tpr)"
      ],
      "execution_count": null,
      "outputs": []
    },
    {
      "cell_type": "markdown",
      "metadata": {
        "id": "DRSPtw5_9V5T"
      },
      "source": [
        "## LR on SMOTE and Borderline-SMOTE Data\n",
        "https://machinelearningmastery.com/smote-oversampling-for-imbalanced-classification/"
      ]
    },
    {
      "cell_type": "code",
      "metadata": {
        "id": "X2wQjBR7d5sl"
      },
      "source": [
        "from imblearn.over_sampling import BorderlineSMOTE\n",
        "\n",
        "#BORDERLINE\n",
        "oversample = BorderlineSMOTE()\n",
        "X_SMOTE, y_SMOTE = oversample.fit_resample(X_train, y_train)\n",
        "counter = Counter(y_SMOTE)\n",
        "print(counter)\n",
        "\n",
        "clf_SMOTE = LogisticRegressionCV(cv=5, random_state=13, max_iter=5000, scoring='roc_auc').fit(X_SMOTE, y_SMOTE)\n",
        "y_pred_SMOTE = clf_SMOTE.predict(X_test)\n",
        "\n",
        "print(\"NORMAL (UNWEIGHTED) LR PERFORMANCE ON BORDERLINE SMOTE TRAINING SET: \")\n",
        "print(f'Training Score: {clf_SMOTE.score(X_SMOTE, y_SMOTE)}')\n",
        "print(f'Validation Score: {clf_SMOTE.score(X_test, y_test)}')\n",
        "# [[TN, FP], \n",
        "#  [FN, TP]]\n",
        "print(f'Confusion Matrix: \\n{confusion_matrix(y_test, y_pred_SMOTE)}')\n",
        "print(f'Area Under Curve (ROC AUC Score): {roc_auc_score(y_test, y_pred_SMOTE)}')\n",
        "print(f'Recall score: {recall_score(y_test,y_pred_SMOTE)}')\n",
        "print(f'Precision score: {precision_score(y_test,y_pred_SMOTE)}')\n",
        "print(f'F2 score: {fbeta_score(y_test, y_pred_SMOTE, beta=2)}')"
      ],
      "execution_count": null,
      "outputs": []
    },
    {
      "cell_type": "code",
      "metadata": {
        "id": "a3SCj8NOa5Tu"
      },
      "source": [
        "# use evaluation metric\n",
        "print(\"Testing \",end=\"\")\n",
        "lr_probs = clf_SMOTE.predict_proba(X_test)\n",
        "# keep probabilities for the positive outcome only\n",
        "lr_probs = lr_probs[:, 1]\n",
        "lr_fpr, lr_tpr, _ = roc_curve(y_test, lr_probs)\n",
        "eval_roc(lr_fpr,lr_tpr)\n",
        "print(\"Training \",end=\"\")\n",
        "lr_probs = clf_SMOTE.predict_proba(X_train)\n",
        "# keep probabilities for the positive outcome only\n",
        "lr_probs = lr_probs[:, 1]\n",
        "lr_fpr, lr_tpr, _ = roc_curve(y_train, lr_probs)\n",
        "eval_roc(lr_fpr,lr_tpr)"
      ],
      "execution_count": null,
      "outputs": []
    },
    {
      "cell_type": "code",
      "metadata": {
        "id": "PXPwFqiA_9uN"
      },
      "source": [
        "# NORMAL\n",
        "from imblearn.over_sampling import SMOTE\n",
        "oversample_normal = SMOTE()\n",
        "X_normal, y_normal = oversample_normal.fit_resample(X_train, y_train)\n",
        "counter = Counter(y_normal)\n",
        "print(counter)\n",
        "clf_n = LogisticRegressionCV(cv=5, random_state=13, max_iter=5000, scoring='roc_auc').fit(X_normal, y_normal)\n",
        "y_pred_n = clf_n.predict(X_test)\n",
        "\n",
        "print(\"NORMAL (UNWEIGHTED) LR PERFORMANCE ON NORMAL SMOTE TRAINING SET: \")\n",
        "print(f'Training Score: {clf_n.score(X_normal, y_normal)}')\n",
        "print(f'Validation Score: {clf_n.score(X_test, y_test)}')\n",
        "# [[TN, FP], \n",
        "#  [FN, TP]]\n",
        "print(f'Confusion Matrix: \\n{confusion_matrix(y_test, y_pred_n)}')\n",
        "print(f'Area Under Curve (ROC AUC Score): {roc_auc_score(y_test, y_pred_n)}')\n",
        "print(f'Recall score: {recall_score(y_test,y_pred_n)}')\n",
        "print(f'Precision score: {precision_score(y_test,y_pred_n)}')\n",
        "print(f'F2 score: {fbeta_score(y_test, y_pred_n, beta=2)}')"
      ],
      "execution_count": null,
      "outputs": []
    },
    {
      "cell_type": "code",
      "metadata": {
        "id": "y2xxj9iQCUQW"
      },
      "source": [
        "#Get Precision-Recall curve weighted model\n",
        "\n",
        "# predict probabilities\n",
        "lr_probs = clf_n.predict_proba(X_test)\n",
        "# keep probabilities for the positive outcome only\n",
        "lr_probs = lr_probs[:, 1]\n",
        "# predict class values\n",
        "yhat = clf_n.predict(X_test)\n",
        "lr_precision, lr_recall, _ = precision_recall_curve(y_test, lr_probs)\n",
        "lr_f1, lr_auc = f1_score(y_test, yhat), auc(lr_recall, lr_precision)\n",
        "# summarize scores\n",
        "print('Logistic: f1=%.3f auc=%.3f' % (lr_f1, lr_auc))\n",
        "# plot the precision-recall curves\n",
        "no_skill = len(y_test[y_test==1]) / len(y_test)\n",
        "pyplot.plot([0, 1], [no_skill, no_skill], linestyle='--', label='No Skill')\n",
        "pyplot.plot(lr_recall, lr_precision, marker='.', label='Logistic')\n",
        "# axis labels\n",
        "pyplot.xlabel('Recall')\n",
        "pyplot.ylabel('Precision')\n",
        "pyplot.title('Precision-Recall Weighted LR')\n",
        "# show the legend\n",
        "pyplot.legend()\n",
        "# show the plot\n",
        "pyplot.savefig(FOLDERNAME_AMY + '/precision_recall_curve_lr_SMOTE_jun1.png', bbox_inches ='tight')\n",
        "pyplot.show()"
      ],
      "execution_count": null,
      "outputs": []
    },
    {
      "cell_type": "code",
      "metadata": {
        "id": "EbucN8omCUl1"
      },
      "source": [
        "#Get ROC (probably not so good since we have class imbalance) weighted model\n",
        "\n",
        "# generate a no skill prediction (majority class)\n",
        "ns_probs = [0 for _ in range(len(y_test))]\n",
        "\n",
        "# predict probabilities\n",
        "lr_probs = clf_n.predict_proba(X_test)\n",
        "# keep probabilities for the positive outcome only\n",
        "lr_probs = lr_probs[:, 1]\n",
        "# calculate scores\n",
        "ns_auc = roc_auc_score(y_test, ns_probs)\n",
        "lr_auc = roc_auc_score(y_test, lr_probs)\n",
        "# summarize scores\n",
        "print('No Skill: ROC AUC=%.3f' % (ns_auc))\n",
        "print('Logistic: ROC AUC=%.3f' % (lr_auc))\n",
        "# calculate roc curves\n",
        "ns_fpr, ns_tpr, _ = roc_curve(y_test, ns_probs)\n",
        "lr_fpr, lr_tpr, _ = roc_curve(y_test, lr_probs)\n",
        "# plot the roc curve for the model\n",
        "pyplot.plot(ns_fpr, ns_tpr, linestyle='--', label='No Skill')\n",
        "pyplot.plot(lr_fpr, lr_tpr, marker='.', label='Logistic')\n",
        "# axis labels\n",
        "pyplot.xlabel('False Positive Rate')\n",
        "pyplot.ylabel('True Positive Rate')\n",
        "pyplot.title('ROC Weighted LR')\n",
        "# show the legend\n",
        "pyplot.legend()\n",
        "# show the plot\n",
        "pyplot.savefig(FOLDERNAME_AMY + '/ROC_lr_SMOTE_jun1.png', bbox_inches ='tight')\n",
        "pyplot.show()\n",
        "\n",
        "# use evaluation metric\n",
        "print(\"Testing \",end=\"\")\n",
        "eval_roc(lr_fpr,lr_tpr)\n",
        "print(\"Training \",end=\"\")\n",
        "lr_probs = clf_n.predict_proba(X_train)\n",
        "# keep probabilities for the positive outcome only\n",
        "lr_probs = lr_probs[:, 1]\n",
        "lr_fpr, lr_tpr, _ = roc_curve(y_train, lr_probs)\n",
        "eval_roc(lr_fpr,lr_tpr)"
      ],
      "execution_count": null,
      "outputs": []
    },
    {
      "cell_type": "markdown",
      "metadata": {
        "id": "Jqft_JYBBkzO"
      },
      "source": [
        "## Cost Sensitive SVM\n",
        "https://machinelearningmastery.com/cost-sensitive-svm-for-imbalanced-classification/ \n"
      ]
    },
    {
      "cell_type": "code",
      "metadata": {
        "id": "j01hDuMXBj3e"
      },
      "source": [
        "from sklearn.svm import SVC\n",
        "SVM = SVC(gamma='scale', class_weight='balanced').fit(X_over, y_over)\n",
        "y_pred_SVM = SVM.predict(X_test)\n",
        "\n",
        "print(\"SVM PERFORMANCE ON RANDOMLY OVERSAMPLED TRAINING SET: \")\n",
        "print(f'Training Score: {SVM.score(X_over, y_over)}')\n",
        "print(f'Validation Score: {SVM.score(X_test, y_test)}')\n",
        "# [[TN, FP], \n",
        "#  [FN, TP]]\n",
        "print(f'Confusion Matrix: \\n{confusion_matrix(y_test, y_pred_SVM)}')\n",
        "print(f'Area Under Curve (ROC AUC Score): {roc_auc_score(y_test, y_pred_SVM)}')\n",
        "print(f'Recall score: {recall_score(y_test,y_pred_SVM)}')\n",
        "print(f'Precision score: {precision_score(y_test,y_pred_SVM)}')\n",
        "print(f'F2 score: {fbeta_score(y_test, y_pred_SVM, beta=2)}')"
      ],
      "execution_count": null,
      "outputs": []
    },
    {
      "cell_type": "code",
      "metadata": {
        "id": "7kNNaTTanyn9"
      },
      "source": [
        "# use evaluation metric\n",
        "print(\"Testing \",end=\"\")\n",
        "lr_probs = SVM.decision_function(X_test)\n",
        "# keep probabilities for the positive outcome only\n",
        "lr_fpr, lr_tpr, _ = roc_curve(y_test, lr_probs)\n",
        "eval_roc(lr_fpr,lr_tpr)\n",
        "print(\"Training \",end=\"\")\n",
        "lr_probs = SVM.decision_function(X_train)\n",
        "# keep probabilities for the positive outcome only\n",
        "lr_fpr, lr_tpr, _ = roc_curve(y_train, lr_probs)\n",
        "eval_roc(lr_fpr,lr_tpr)"
      ],
      "execution_count": null,
      "outputs": []
    },
    {
      "cell_type": "markdown",
      "metadata": {
        "id": "cdCroXiR7OvE"
      },
      "source": [
        "## XGBoost, Tuned"
      ]
    },
    {
      "cell_type": "code",
      "metadata": {
        "colab": {
          "base_uri": "https://localhost:8080/"
        },
        "id": "gyT_Cglzjmdb",
        "outputId": "ee09bbe1-be33-4454-846c-85103437765f"
      },
      "source": [
        "neg = np.sum(labels == 0)\n",
        "pos = np.sum(labels > 0)\n",
        "weight = neg/pos\n",
        "weight_sqrt = np.sqrt(neg/pos) \n",
        "print(\"Num Neg = \", neg)\n",
        "print(\"Num Pos = \", pos)\n",
        "print(\"Current Weighting Scheme = \", weight)\n",
        "# see (https://stats.stackexchange.com/questions/243207/what-is-the-proper-usage-of-scale-pos-weight-in-xgboost-for-imbalanced-datasets)"
      ],
      "execution_count": null,
      "outputs": [
        {
          "output_type": "stream",
          "text": [
            "Num Neg =  41174\n",
            "Num Pos =  647\n",
            "Current Weighting Scheme =  63.63833075734158\n"
          ],
          "name": "stdout"
        }
      ]
    },
    {
      "cell_type": "code",
      "metadata": {
        "id": "ibjRQUT3912S"
      },
      "source": [
        "# # define model as a classifier with scaled weighting for positive classes (bc of class imbalance)\n",
        "# clf_xgb_weighted = XGBClassifier(scale_pos_weight=99) \n",
        "# # define evaluation procedure\n",
        "# cv_xgb_weighted = RepeatedStratifiedKFold(n_splits=10, n_repeats=1, random_state=1)\n",
        "# # evaluate model\n",
        "# scores_weighted = cross_val_score(clf_xgb_weighted, X_train, y_train, scoring='balanced_accuracy', cv=cv_xgb_weighted, n_jobs=-1) #score with balanced accuracy (see: https://scikit-learn.org/stable/modules/model_evaluation.html#scoring-parameter)"
      ],
      "execution_count": null,
      "outputs": []
    },
    {
      "cell_type": "code",
      "metadata": {
        "colab": {
          "base_uri": "https://localhost:8080/"
        },
        "id": "a-U4mDH8vmyd",
        "outputId": "a405ceb3-6204-4206-e34b-6082a7ca39aa"
      },
      "source": [
        "clf_xgb = XGBClassifier() \n",
        "clf_xgb.fit(X_train, y_train)\n",
        "# make predictions for test data\n",
        "# y_pred2 = clf_xgb_weighted.predict(X_test)\n",
        "y_preds2 = clf_xgb.predict(X_test)\n",
        "print(f'Confusion Matrix: \\n{confusion_matrix(y_test, y_preds2)}')\n",
        "print(f'Area Under Curve (ROC AUC Score): {roc_auc_score(y_test, y_preds2)}')\n",
        "print(f'Recall score: {recall_score(y_test, y_preds2)}')\n",
        "print(f'Precision score: {precision_score(y_test, y_preds2)}')\n",
        "print(f'F2 score: {fbeta_score(y_test, y_preds2, beta=2)}')\n",
        "\n",
        "print(\"\\nTraining\")\n",
        "y_preds2 = clf_xgb.predict_proba(X_train)[:, 1]\n",
        "xgb_fpr, xgb_tpr, xgb_thresh = roc_curve(y_train, y_preds2)\n",
        "eval_roc(xgb_fpr,xgb_tpr) #prints, Cora's function\n",
        "\n",
        "print(\"\\nTesting\")\n",
        "y_preds2 = tuned_xgb.predict_proba(X_test)[:, 1]\n",
        "xgb_fpr, xgb_tpr, xgb_thresh = roc_curve(y_test, y_preds2)\n",
        "eval_roc(xgb_fpr,xgb_tpr) #prints, Cora's function"
      ],
      "execution_count": null,
      "outputs": [
        {
          "output_type": "stream",
          "text": [
            "Confusion Matrix: \n",
            "[[8231    0]\n",
            " [ 134    0]]\n",
            "Area Under Curve (ROC AUC Score): 0.5\n",
            "Recall score: 0.0\n",
            "Precision score: 0.0\n",
            "F2 score: 0.0\n",
            "\n",
            "Training\n",
            "False Positive Rate at Threshold: 0.551\n",
            "\n",
            "Testing\n",
            "False Positive Rate at Threshold: 0.676\n"
          ],
          "name": "stdout"
        },
        {
          "output_type": "stream",
          "text": [
            "Precision is ill-defined and being set to 0.0 due to no predicted samples. Use `zero_division` parameter to control this behavior.\n"
          ],
          "name": "stderr"
        }
      ]
    },
    {
      "cell_type": "code",
      "metadata": {
        "id": "ar2MHANK-oRt",
        "colab": {
          "base_uri": "https://localhost:8080/"
        },
        "outputId": "d50e5e9a-50e2-440f-b0f4-03e597563515"
      },
      "source": [
        "# # summarize performance\n",
        "# print('Mean Recall: %.5f' % np.mean(scores_weighted)) #Recall = TP / (TP + FN) #Balanced Accuracy \n",
        "# print(scores_weighted)"
      ],
      "execution_count": null,
      "outputs": [
        {
          "output_type": "stream",
          "text": [
            "Mean Recall: 0.63372\n",
            "[0.65728481 0.60784176 0.63932091 0.67596095 0.62292163 0.64886351\n",
            " 0.63155528 0.65402427 0.59739482 0.60199958]\n"
          ],
          "name": "stdout"
        }
      ]
    },
    {
      "cell_type": "code",
      "metadata": {
        "id": "bb3Lv06Mypzq",
        "colab": {
          "base_uri": "https://localhost:8080/"
        },
        "outputId": "f99b3704-93af-4e9d-e410-289e6b69bf36"
      },
      "source": [
        "clf_xgb = XGBClassifier()\n",
        "# define evaluation procedure\n",
        "cv = StratifiedKFold(n_splits=5)\n",
        "params = {\n",
        "        'scale_pos_weight': [0, 63, 99, 150],\n",
        "        'learning_rate': [0.01, 0.05, 0.1, 0.2, 0.3],\n",
        "        'max_depth': [3, 5, 7, 10, 15, 25],\n",
        "        'min_child_weight': [1, 3, 5],\n",
        "        'subsample': [0.5, 0.7],\n",
        "        'colsample_bytree': [0.5, 0.7],\n",
        "        'n_estimators' : [100, 200, 500, 750, 1000],\n",
        "        'gamma' : [ 0.0, 0.05, 0.15, 0.3]\n",
        "    }\n",
        "random_search= RandomizedSearchCV(estimator = clf_xgb,param_distributions=params,n_iter=50,scoring=\"roc_auc\",n_jobs=-1,cv=cv, verbose = 3) #tune here, change n_iter to higher if we want to search over greater search space\n",
        "random_search.fit(X_train,y_train)\n",
        "print(random_search.best_estimator_)\n",
        "print(random_search.best_params_)"
      ],
      "execution_count": null,
      "outputs": [
        {
          "output_type": "stream",
          "text": [
            "Fitting 5 folds for each of 50 candidates, totalling 250 fits\n"
          ],
          "name": "stdout"
        },
        {
          "output_type": "stream",
          "text": [
            "[Parallel(n_jobs=-1)]: Using backend LokyBackend with 2 concurrent workers.\n",
            "[Parallel(n_jobs=-1)]: Done  28 tasks      | elapsed:  6.8min\n",
            "[Parallel(n_jobs=-1)]: Done 124 tasks      | elapsed: 42.4min\n",
            "[Parallel(n_jobs=-1)]: Done 250 out of 250 | elapsed: 86.7min finished\n"
          ],
          "name": "stderr"
        },
        {
          "output_type": "stream",
          "text": [
            "XGBClassifier(base_score=0.5, booster='gbtree', colsample_bylevel=1,\n",
            "              colsample_bynode=1, colsample_bytree=0.5, gamma=0.15,\n",
            "              learning_rate=0.01, max_delta_step=0, max_depth=5,\n",
            "              min_child_weight=3, missing=None, n_estimators=500, n_jobs=1,\n",
            "              nthread=None, objective='binary:logistic', random_state=0,\n",
            "              reg_alpha=0, reg_lambda=1, scale_pos_weight=150, seed=None,\n",
            "              silent=None, subsample=0.7, verbosity=1)\n",
            "{'subsample': 0.7, 'scale_pos_weight': 150, 'n_estimators': 500, 'min_child_weight': 3, 'max_depth': 5, 'learning_rate': 0.01, 'gamma': 0.15, 'colsample_bytree': 0.5}\n"
          ],
          "name": "stdout"
        }
      ]
    },
    {
      "cell_type": "code",
      "metadata": {
        "id": "o7QOXyC3yycO",
        "colab": {
          "base_uri": "https://localhost:8080/"
        },
        "outputId": "aff3e84a-e13d-4630-ff88-e038f4251b98"
      },
      "source": [
        "tuned_xgb = XGBClassifier(base_score=0.5, booster='gbtree', colsample_bylevel=1,\n",
        "              colsample_bynode=1, colsample_bytree=0.5, gamma=100,\n",
        "              learning_rate=0.001, max_delta_step=0, max_depth=5,\n",
        "              min_child_weight=50, missing=None, n_estimators=185, n_jobs=1,\n",
        "              nthread=None, objective='binary:logistic', random_state=0,\n",
        "              reg_alpha=35, reg_lambda=45, scale_pos_weight=150, seed=None,\n",
        "              silent=None, subsample=0.7, verbosity=1) #manually tuned after random search for regularization (lambda, alpha, reduced n_estimators)\n",
        "tuned_xgb.fit(X_train, y_train)\n",
        "y_preds = tuned_xgb.predict(X_test)\n",
        "print(f'Confusion Matrix: \\n{confusion_matrix(y_test, y_preds)}')\n",
        "print(f'Area Under Curve (ROC AUC Score): {roc_auc_score(y_test, y_preds)}')\n",
        "print(f'Recall score: {recall_score(y_test, y_preds)}')\n",
        "print(f'Precision score: {precision_score(y_test, y_preds)}')\n",
        "print(f'F2 score: {fbeta_score(y_test, y_preds, beta=2)}')\n",
        "\n",
        "print(\"\\nTraining\")\n",
        "y_preds = tuned_xgb.predict_proba(X_train)[:, 1]\n",
        "xgb_fpr, xgb_tpr, xgb_thresh = roc_curve(y_train, y_preds)\n",
        "eval_roc(xgb_fpr,xgb_tpr) #prints, Cora's function\n",
        "\n",
        "print(\"\\nTesting\")\n",
        "y_preds = tuned_xgb.predict_proba(X_test)[:, 1]\n",
        "xgb_fpr, xgb_tpr, xgb_thresh = roc_curve(y_test, y_preds)\n",
        "eval_roc(xgb_fpr,xgb_tpr) #prints, Cora's function"
      ],
      "execution_count": 13,
      "outputs": [
        {
          "output_type": "stream",
          "text": [
            "Confusion Matrix: \n",
            "[[2130 6114]\n",
            " [   8  113]]\n",
            "Area Under Curve (ROC AUC Score): 0.5961270104779434\n",
            "Recall score: 0.9338842975206612\n",
            "Precision score: 0.018146780150955517\n",
            "F2 score: 0.0841901355982715\n",
            "\n",
            "Training\n",
            "False Positive Rate at Threshold: 0.614\n",
            "\n",
            "Testing\n",
            "False Positive Rate at Threshold: 0.677\n"
          ],
          "name": "stdout"
        }
      ]
    },
    {
      "cell_type": "code",
      "metadata": {
        "colab": {
          "base_uri": "https://localhost:8080/",
          "height": 471
        },
        "id": "-0JNCSvFsUtP",
        "outputId": "962f2112-6500-4a39-b671-0851c7142ed0"
      },
      "source": [
        "xgboost.plot_tree(tuned_xgb, rankdir='LR')\n",
        "fig = pyplot.gcf()\n",
        "fig.set_size_inches(24, 24)\n",
        "pyplot.savefig(FOLDERNAME_AMY + '/decision_tree_jun2.png', bbox_inches ='tight')\n",
        "pyplot.show()"
      ],
      "execution_count": 22,
      "outputs": [
        {
          "output_type": "display_data",
          "data": {
            "image/png": "[encoded data removed]",
            "text/plain": [
              "<Figure size 1728x1728 with 1 Axes>"
            ]
          },
          "metadata": {
            "tags": [],
            "needs_background": "light"
          }
        }
      ]
    },
    {
      "cell_type": "code",
      "metadata": {
        "id": "Bn0y60SlyH3W"
      },
      "source": [
        ""
      ],
      "execution_count": null,
      "outputs": []
    },
    {
      "cell_type": "code",
      "metadata": {
        "id": "IpnqZ7ady2aK",
        "colab": {
          "base_uri": "https://localhost:8080/"
        },
        "outputId": "2291b4bf-dcb1-4232-8cb3-9eab0bfbf667"
      },
      "source": [
        "!pip install shap\n",
        "import shap \n",
        "data = shuff.iloc[:,:-1]\n",
        "labels = (shuff[\"numMaternalDeaths\"] > 0).astype(int)\n",
        "designMatrix = xgboost.DMatrix(X_test, y_test)\n",
        "explainer = shap.TreeExplainer(tuned_xgb)\n",
        "shap_values = explainer.shap_values(designMatrix)"
      ],
      "execution_count": 25,
      "outputs": [
        {
          "output_type": "stream",
          "text": [
            "Collecting shap\n",
            "\u001b[?25l  Downloading https://files.pythonhosted.org/packages/b9/f4/c5b95cddae15be80f8e58b25edceca105aa83c0b8c86a1edad24a6af80d3/shap-0.39.0.tar.gz (356kB)\n",
            "\r\u001b[K     |█                               | 10kB 10.2MB/s eta 0:00:01\r\u001b[K     |█▉                              | 20kB 13.3MB/s eta 0:00:01\r\u001b[K     |██▊                             | 30kB 12.8MB/s eta 0:00:01\r\u001b[K     |███▊                            | 40kB 9.4MB/s eta 0:00:01\r\u001b[K     |████▋                           | 51kB 5.6MB/s eta 0:00:01\r\u001b[K     |█████▌                          | 61kB 5.6MB/s eta 0:00:01\r\u001b[K     |██████▍                         | 71kB 5.7MB/s eta 0:00:01\r\u001b[K     |███████▍                        | 81kB 6.3MB/s eta 0:00:01\r\u001b[K     |████████▎                       | 92kB 6.5MB/s eta 0:00:01\r\u001b[K     |█████████▏                      | 102kB 7.1MB/s eta 0:00:01\r\u001b[K     |██████████▏                     | 112kB 7.1MB/s eta 0:00:01\r\u001b[K     |███████████                     | 122kB 7.1MB/s eta 0:00:01\r\u001b[K     |████████████                    | 133kB 7.1MB/s eta 0:00:01\r\u001b[K     |████████████▉                   | 143kB 7.1MB/s eta 0:00:01\r\u001b[K     |█████████████▉                  | 153kB 7.1MB/s eta 0:00:01\r\u001b[K     |██████████████▊                 | 163kB 7.1MB/s eta 0:00:01\r\u001b[K     |███████████████▋                | 174kB 7.1MB/s eta 0:00:01\r\u001b[K     |████████████████▋               | 184kB 7.1MB/s eta 0:00:01\r\u001b[K     |█████████████████▌              | 194kB 7.1MB/s eta 0:00:01\r\u001b[K     |██████████████████▍             | 204kB 7.1MB/s eta 0:00:01\r\u001b[K     |███████████████████▎            | 215kB 7.1MB/s eta 0:00:01\r\u001b[K     |████████████████████▎           | 225kB 7.1MB/s eta 0:00:01\r\u001b[K     |█████████████████████▏          | 235kB 7.1MB/s eta 0:00:01\r\u001b[K     |██████████████████████          | 245kB 7.1MB/s eta 0:00:01\r\u001b[K     |███████████████████████         | 256kB 7.1MB/s eta 0:00:01\r\u001b[K     |████████████████████████        | 266kB 7.1MB/s eta 0:00:01\r\u001b[K     |████████████████████████▉       | 276kB 7.1MB/s eta 0:00:01\r\u001b[K     |█████████████████████████▊      | 286kB 7.1MB/s eta 0:00:01\r\u001b[K     |██████████████████████████▊     | 296kB 7.1MB/s eta 0:00:01\r\u001b[K     |███████████████████████████▋    | 307kB 7.1MB/s eta 0:00:01\r\u001b[K     |████████████████████████████▌   | 317kB 7.1MB/s eta 0:00:01\r\u001b[K     |█████████████████████████████▍  | 327kB 7.1MB/s eta 0:00:01\r\u001b[K     |██████████████████████████████▍ | 337kB 7.1MB/s eta 0:00:01\r\u001b[K     |███████████████████████████████▎| 348kB 7.1MB/s eta 0:00:01\r\u001b[K     |████████████████████████████████| 358kB 7.1MB/s \n",
            "\u001b[?25hRequirement already satisfied: numpy in /usr/local/lib/python3.7/dist-packages (from shap) (1.19.5)\n",
            "Requirement already satisfied: scipy in /usr/local/lib/python3.7/dist-packages (from shap) (1.4.1)\n",
            "Requirement already satisfied: scikit-learn in /usr/local/lib/python3.7/dist-packages (from shap) (0.22.2.post1)\n",
            "Requirement already satisfied: pandas in /usr/local/lib/python3.7/dist-packages (from shap) (1.1.5)\n",
            "Requirement already satisfied: tqdm>4.25.0 in /usr/local/lib/python3.7/dist-packages (from shap) (4.41.1)\n",
            "Collecting slicer==0.0.7\n",
            "  Downloading https://files.pythonhosted.org/packages/78/c2/b3f55dfdb8af9812fdb9baf70cacf3b9e82e505b2bd4324d588888b81202/slicer-0.0.7-py3-none-any.whl\n",
            "Requirement already satisfied: numba in /usr/local/lib/python3.7/dist-packages (from shap) (0.51.2)\n",
            "Requirement already satisfied: cloudpickle in /usr/local/lib/python3.7/dist-packages (from shap) (1.3.0)\n",
            "Requirement already satisfied: joblib>=0.11 in /usr/local/lib/python3.7/dist-packages (from scikit-learn->shap) (1.0.1)\n",
            "Requirement already satisfied: pytz>=2017.2 in /usr/local/lib/python3.7/dist-packages (from pandas->shap) (2018.9)\n",
            "Requirement already satisfied: python-dateutil>=2.7.3 in /usr/local/lib/python3.7/dist-packages (from pandas->shap) (2.8.1)\n",
            "Requirement already satisfied: setuptools in /usr/local/lib/python3.7/dist-packages (from numba->shap) (57.0.0)\n",
            "Requirement already satisfied: llvmlite<0.35,>=0.34.0.dev0 in /usr/local/lib/python3.7/dist-packages (from numba->shap) (0.34.0)\n",
            "Requirement already satisfied: six>=1.5 in /usr/local/lib/python3.7/dist-packages (from python-dateutil>=2.7.3->pandas->shap) (1.15.0)\n",
            "Building wheels for collected packages: shap\n",
            "  Building wheel for shap (setup.py) ... \u001b[?25l\u001b[?25hdone\n",
            "  Created wheel for shap: filename=shap-0.39.0-cp37-cp37m-linux_x86_64.whl size=491624 sha256=73ad5bda22c20cd42757951a84b8d8f8abc0488cfd1c3dee8c8f7afd3027b35d\n",
            "  Stored in directory: /root/.cache/pip/wheels/15/27/f5/a8ab9da52fd159aae6477b5ede6eaaec69fd130fa0fa59f283\n",
            "Successfully built shap\n",
            "Installing collected packages: slicer, shap\n",
            "Successfully installed shap-0.39.0 slicer-0.0.7\n"
          ],
          "name": "stdout"
        }
      ]
    },
    {
      "cell_type": "code",
      "metadata": {
        "colab": {
          "base_uri": "https://localhost:8080/",
          "height": 52
        },
        "id": "mQrfv7pLVjQ6",
        "outputId": "f01a585c-c226-440a-b0f3-b4a07bb8bd56"
      },
      "source": [
        "shap.summary_plot(shap_values, X_test, show=False)\n",
        "pyplot.savefig(FOLDERNAME_AMY + '/SHAPXGB_tuned_jun1.png', bbox_inches ='tight')"
      ],
      "execution_count": null,
      "outputs": [
        {
          "output_type": "display_data",
          "data": {
            "image/png": "[encoded data removed]",
            "text/plain": [
              "<Figure size 576x684 with 2 Axes>"
            ]
          },
          "metadata": {
            "tags": [],
            "needs_background": "light"
          }
        }
      ]
    },
    {
      "cell_type": "code",
      "metadata": {
        "colab": {
          "base_uri": "https://localhost:8080/",
          "height": 580
        },
        "id": "IHdgo-_iQh-y",
        "outputId": "92da3547-7c56-4d8f-8f5e-110aa139c4ce"
      },
      "source": [
        "shap.summary_plot(shap_values, X_test, plot_type=\"bar\", show = False)\n",
        "pyplot.savefig(FOLDERNAME_AMY + '/SHAPXGB_tuned_feature_importance_jun1.png', bbox_inches ='tight')"
      ],
      "execution_count": 26,
      "outputs": [
        {
          "output_type": "display_data",
          "data": {
            "image/png": "[encoded data removed]",
            "text/plain": [
              "<Figure size 576x684 with 1 Axes>"
            ]
          },
          "metadata": {
            "tags": [],
            "needs_background": "light"
          }
        }
      ]
    },
    {
      "cell_type": "code",
      "metadata": {
        "id": "msV_uJYz3CtF",
        "colab": {
          "base_uri": "https://localhost:8080/"
        },
        "outputId": "b598d908-76f0-4be8-d235-79ce969c290b"
      },
      "source": [
        "sum(y_train)"
      ],
      "execution_count": 31,
      "outputs": [
        {
          "output_type": "execute_result",
          "data": {
            "text/plain": [
              "526"
            ]
          },
          "metadata": {
            "tags": []
          },
          "execution_count": 31
        }
      ]
    },
    {
      "cell_type": "code",
      "metadata": {
        "colab": {
          "base_uri": "https://localhost:8080/"
        },
        "id": "U-YvXrN2zRKM",
        "outputId": "d8bed003-879e-4502-a6a8-1bc98d78b32d"
      },
      "source": [
        "sum(y_test)"
      ],
      "execution_count": 32,
      "outputs": [
        {
          "output_type": "execute_result",
          "data": {
            "text/plain": [
              "121"
            ]
          },
          "metadata": {
            "tags": []
          },
          "execution_count": 32
        }
      ]
    },
    {
      "cell_type": "code",
      "metadata": {
        "colab": {
          "base_uri": "https://localhost:8080/",
          "height": 224
        },
        "id": "VKsjgzp0sQVV",
        "outputId": "fc4ec0a3-d2a2-44a1-ec47-2dcd9df8f9b1"
      },
      "source": [
        "\n",
        "# generate a no skill prediction (majority class)\n",
        "ns_probs = [0 for _ in range(len(y_train))]\n",
        "\n",
        "# predict probabilities\n",
        "xgb_probs = tuned_xgb.predict_proba(X_train)\n",
        "# keep probabilities for the positive outcome only\n",
        "xgb_probs = xgb_probs[:, 1]\n",
        "# calculate scores\n",
        "ns_auc = roc_auc_score(y_train, ns_probs)\n",
        "xgb_auc = roc_auc_score(y_train, xgb_probs)\n",
        "# summarize scores\n",
        "print('No Skill: ROC AUC=%.3f' % (ns_auc))\n",
        "print('XGBoost: ROC AUC=%.3f' % (xgb_auc))\n",
        "# calculate roc curves\n",
        "ns_fpr, ns_tpr, _ = roc_curve(y_train, ns_probs)\n",
        "xgb_fpr, xgb_tpr, _ = roc_curve(y_train, xgb_probs)\n",
        "# plot the roc curve for the model\n",
        "pyplot.plot(ns_fpr, ns_tpr, linestyle='--', label='No Skill')\n",
        "pyplot.plot(xgb_fpr, xgb_tpr, linestyle='-', label='XGBoost')\n",
        "# axis labels\n",
        "pyplot.xlabel('False Positive Rate')\n",
        "pyplot.ylabel('True Positive Rate')\n",
        "# pyplot.plot(0.861, 0.92, 'rx', label = \"Optimal Value\")\n",
        "pyplot.title('ROC Tuned XGBoost Training Data')\n",
        "# show the legend\n",
        "pyplot.legend()\n",
        "# show the plot\n",
        "pyplot.savefig(FOLDERNAME_AMY + '/ROC_xgb_tuned_training_data_jun1.png', bbox_inches ='tight')\n",
        "pyplot.show()"
      ],
      "execution_count": 1,
      "outputs": [
        {
          "output_type": "error",
          "ename": "NameError",
          "evalue": "ignored",
          "traceback": [
            "\u001b[0;31m---------------------------------------------------------------------------\u001b[0m",
            "\u001b[0;31mNameError\u001b[0m                                 Traceback (most recent call last)",
            "\u001b[0;32m<ipython-input-1-7c6d183b3ea0>\u001b[0m in \u001b[0;36m<module>\u001b[0;34m()\u001b[0m\n\u001b[1;32m      1\u001b[0m \u001b[0;34m\u001b[0m\u001b[0m\n\u001b[1;32m      2\u001b[0m \u001b[0;31m# generate a no skill prediction (majority class)\u001b[0m\u001b[0;34m\u001b[0m\u001b[0;34m\u001b[0m\u001b[0;34m\u001b[0m\u001b[0m\n\u001b[0;32m----> 3\u001b[0;31m \u001b[0mns_probs\u001b[0m \u001b[0;34m=\u001b[0m \u001b[0;34m[\u001b[0m\u001b[0;36m0\u001b[0m \u001b[0;32mfor\u001b[0m \u001b[0m_\u001b[0m \u001b[0;32min\u001b[0m \u001b[0mrange\u001b[0m\u001b[0;34m(\u001b[0m\u001b[0mlen\u001b[0m\u001b[0;34m(\u001b[0m\u001b[0my_train\u001b[0m\u001b[0;34m)\u001b[0m\u001b[0;34m)\u001b[0m\u001b[0;34m]\u001b[0m\u001b[0;34m\u001b[0m\u001b[0;34m\u001b[0m\u001b[0m\n\u001b[0m\u001b[1;32m      4\u001b[0m \u001b[0;34m\u001b[0m\u001b[0m\n\u001b[1;32m      5\u001b[0m \u001b[0;31m# predict probabilities\u001b[0m\u001b[0;34m\u001b[0m\u001b[0;34m\u001b[0m\u001b[0;34m\u001b[0m\u001b[0m\n",
            "\u001b[0;31mNameError\u001b[0m: name 'y_train' is not defined"
          ]
        }
      ]
    },
    {
      "cell_type": "code",
      "metadata": {
        "colab": {
          "base_uri": "https://localhost:8080/",
          "height": 327
        },
        "id": "IWKxIUemg5e1",
        "outputId": "1b5c2879-08b8-4f71-dcda-46a84dcf86fa"
      },
      "source": [
        "\n",
        "# generate a no skill prediction (majority class)\n",
        "ns_probs = [0 for _ in range(len(y_test))]\n",
        "\n",
        "# predict probabilities\n",
        "xgb_probs = tuned_xgb.predict_proba(X_test)\n",
        "# keep probabilities for the positive outcome only\n",
        "xgb_probs = xgb_probs[:, 1]\n",
        "# calculate scores\n",
        "ns_auc = roc_auc_score(y_test, ns_probs)\n",
        "xgb_auc = roc_auc_score(y_test, xgb_probs)\n",
        "# summarize scores\n",
        "print('No Skill: ROC AUC=%.3f' % (ns_auc))\n",
        "print('XGBoost: ROC AUC=%.3f' % (xgb_auc))\n",
        "# calculate roc curves\n",
        "ns_fpr, ns_tpr, _ = roc_curve(y_test, ns_probs)\n",
        "xgb_fpr, xgb_tpr, _ = roc_curve(y_test, xgb_probs)\n",
        "# plot the roc curve for the model\n",
        "pyplot.plot(ns_fpr, ns_tpr, linestyle='--', label='No Skill')\n",
        "pyplot.plot(xgb_fpr, xgb_tpr, linestyle='-', label='XGBoost')\n",
        "pyplot.plot(lr_fpr, lr_tpr, linestyle='-', label='Logistic')\n",
        "# axis labels\n",
        "pyplot.xlabel('False Positive Rate')\n",
        "pyplot.ylabel('True Positive Rate')\n",
        "pyplot.plot(0.676, 0.92, marker=\"o\", markersize=10, label = \"Optimal_XGB\")\n",
        "pyplot.plot(0.694, 0.92, marker=\"o\", markersize=10, label = \"Optimal_Logistic\")\n",
        "pyplot.title('ROC Comparison')\n",
        "# show the legend\n",
        "pyplot.legend()\n",
        "# show the plot\n",
        "pyplot.savefig(FOLDERNAME_AMY + '/ROC_xgb_tuned_jun1.png', bbox_inches ='tight')\n",
        "pyplot.show()"
      ],
      "execution_count": 42,
      "outputs": [
        {
          "output_type": "stream",
          "text": [
            "No Skill: ROC AUC=0.500\n",
            "XGBoost: ROC AUC=0.718\n"
          ],
          "name": "stdout"
        },
        {
          "output_type": "display_data",
          "data": {
            "image/png": "[encoded data removed]",
            "text/plain": [
              "<Figure size 432x288 with 1 Axes>"
            ]
          },
          "metadata": {
            "tags": [],
            "needs_background": "light"
          }
        }
      ]
    },
    {
      "cell_type": "markdown",
      "metadata": {
        "id": "WGGTTqKC3Xo3"
      },
      "source": [
        "## Error Analysis XGB\n",
        "\n",
        "\n"
      ]
    },
    {
      "cell_type": "markdown",
      "metadata": {
        "id": "eoD8i71zzYNw"
      },
      "source": [
        "## Mapping Results to Regions"
      ]
    },
    {
      "cell_type": "code",
      "metadata": {
        "id": "ZGJJfBjxZXde"
      },
      "source": [
        "def region_map(regions, predictions, title):\n",
        "  num_regions = np.max(regions)\n",
        "  num_pos = np.zeros(num_regions)\n",
        "  objects = []\n",
        "  y_pos = np.arange(num_regions)+1\n",
        "  for i in range(num_regions):\n",
        "    num_pos[i] = np.sum(predictions[regions==i])/max(1,np.sum(regions==i))\n",
        "    objects.append(\"region \"+str(i+1))\n",
        "  y_pos = np.arange(num_regions)\n",
        "\n",
        "  plt.bar(y_pos, num_pos, align='center', alpha=0.5)\n",
        "  plt.xticks(y_pos, objects)\n",
        "  plt.ylabel('Fraction of Region Predicted Positive')\n",
        "  plt.title(title + ': Stratification of Predicted Positive cases')\n",
        "\n",
        "  #plt.show()\n",
        "  pyplot.savefig(FOLDERNAME_AMY + '/baseline_regions.png', bbox_inches ='tight')"
      ],
      "execution_count": null,
      "outputs": []
    },
    {
      "cell_type": "code",
      "metadata": {
        "id": "nWFg18iAlwkl",
        "colab": {
          "base_uri": "https://localhost:8080/",
          "height": 281
        },
        "outputId": "416c3254-9869-47cd-b587-38f26066dfde"
      },
      "source": [
        "# To generate a region graph for a classifier run a line of the form: \n",
        "#   region_map(regions,\"the classifier's predictions on rem.iloc[:,:-1]\", name of your classifier)\n",
        "\n",
        "region_map(regions,clf_lr.predict(rem.iloc[:,:-1]), \"LR\")  # normal LR\n",
        "#region_map(regions,clf_wlr.predict(rem.iloc[:,:-1]), \"WLR\") # weighted LR\n",
        "#region_map(regions,clf_wlrcv.predict(rem.iloc[:,:-1]), \"WLRCV\") # weighted LR with CV\n",
        "#region_map(regions,grid.best_estimator_.predict(rem.iloc[:,:-1]), \"Grid\") # LR grid to estimate weights\n",
        "#region_map(regions,clf_over.predict(rem.iloc[:,:-1]), \"LR Over\") # oversampling LR\n",
        "#region_map(regions,clf_overcv.predict(rem.iloc[:,:-1]), \"LR Over CV\") # oversampling LR with CV\n",
        "#region_map(regions,clf_combo.predict(rem.iloc[:,:-1]), \"LR Combo\") # combo LR\n",
        "#region_map(regions,tuned_xgb.predict(rem.iloc[:,:-1]), \"XGBoost Tuned\") # XGBoost\n",
        "#pyplot.savefig(FOLDERNAME_AMY + '/xgb_regions.png', bbox_inches ='tight')\n",
        "\n",
        "# still need to add XG boost once Sameer is done"
      ],
      "execution_count": null,
      "outputs": [
        {
          "output_type": "display_data",
          "data": {
            "image/png": "[encoded data removed]",
            "text/plain": [
              "<Figure size 432x288 with 1 Axes>"
            ]
          },
          "metadata": {
            "tags": [],
            "needs_background": "light"
          }
        }
      ]
    },
    {
      "cell_type": "code",
      "metadata": {
        "colab": {
          "base_uri": "https://localhost:8080/",
          "height": 52
        },
        "id": "65rlBA3iE7zF",
        "outputId": "039c1a58-1d9e-46b4-899a-97a3566207ab"
      },
      "source": [
        "model_performance = pd.read_csv(FOLDERNAME + \"/model_performance_threshold.csv\")\n",
        "model_performance.head()\n",
        "pyplot.bar(model_performance['Model Name'], model_performance['Test FPR'], label = \"Test FPR\")\n",
        "pyplot.bar(model_performance['Model Name'], model_performance['Train FPR'], label = \"Train FPR\")\n",
        "pyplot.xlabel('Model Name')\n",
        "pyplot.xticks(rotation = 60) \n",
        "pyplot.ylabel('False Positive Rate (FPR)')\n",
        "pyplot.title('Model Evaulation - FPR at TPR = 0.92')\n",
        "# show the legend\n",
        "pyplot.legend()\n",
        "# show the plot\n",
        "pyplot.savefig(FOLDERNAME_AMY + '/model_evaluation.png', bbox_inches ='tight')\n",
        "pyplot.show()"
      ],
      "execution_count": null,
      "outputs": [
        {
          "output_type": "display_data",
          "data": {
            "image/png": "[encoded data removed]",
            "text/plain": [
              "<Figure size 432x288 with 1 Axes>"
            ]
          },
          "metadata": {
            "tags": [],
            "needs_background": "light"
          }
        }
      ]
    }
  ]
}